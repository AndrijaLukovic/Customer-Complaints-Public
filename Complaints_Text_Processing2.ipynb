{
 "cells": [
  {
   "cell_type": "code",
   "execution_count": 26,
   "metadata": {},
   "outputs": [],
   "source": [
    "import pandas as pd\n",
    "import numpy as np\n",
    "from wordcloud import WordCloud, STOPWORDS, ImageColorGenerator\n",
    "\n",
    "import string\n",
    "\n",
    "import nltk\n",
    "from nltk.corpus import stopwords \n",
    "\n",
    "import matplotlib.pyplot as plt\n",
    "%matplotlib inline"
   ]
  },
  {
   "cell_type": "code",
   "execution_count": 27,
   "metadata": {},
   "outputs": [],
   "source": [
    "dataset = pd.read_csv(\"/home/andrija/Desktop/customer_complaints/complaints-2017-12-08_11_01.csv\")"
   ]
  },
  {
   "cell_type": "code",
   "execution_count": 47,
   "metadata": {},
   "outputs": [],
   "source": [
    "narrative = dataset['Consumer complaint narrative'].copy(deep=True)"
   ]
  },
  {
   "cell_type": "markdown",
   "metadata": {},
   "source": [
    "## StopWords"
   ]
  },
  {
   "cell_type": "code",
   "execution_count": 46,
   "metadata": {},
   "outputs": [],
   "source": [
    "stopwords = set(STOPWORDS)\n",
    "stopwords.update([\"XXXX\", 'XX', 'Wells', 'Fargo', 'XXXX/Unapplied', '#'])"
   ]
  },
  {
   "cell_type": "code",
   "execution_count": 48,
   "metadata": {},
   "outputs": [],
   "source": [
    "text = narrative[15]"
   ]
  },
  {
   "cell_type": "markdown",
   "metadata": {},
   "source": [
    "## Tokenization"
   ]
  },
  {
   "cell_type": "code",
   "execution_count": 49,
   "metadata": {},
   "outputs": [],
   "source": [
    "word_tokens = nltk.word_tokenize(text)"
   ]
  },
  {
   "cell_type": "code",
   "execution_count": 50,
   "metadata": {},
   "outputs": [],
   "source": [
    "filtered_text = []\n",
    "\n",
    "for w in word_tokens:\n",
    "    if w not in stopwords:\n",
    "        filtered_text.append(w)"
   ]
  },
  {
   "cell_type": "code",
   "execution_count": 51,
   "metadata": {},
   "outputs": [
    {
     "name": "stdout",
     "output_type": "stream",
     "text": [
      "['In', 'previous', 'correspondence', 'replies', 'Home', 'Mortgage', ',', 'generated', 'robo', 'letter', 'states', ',', '``', 'unable', 'establish', 'contact', '``', '.', 'With', 'correspondence', 'sent', 'owing', 'home', '10', 'years', 'changing', 'phone', 'number', ',', 'email', ',', 'etc', '.', 'The', 'information', 'remained', ',', 'additionally', 'I', 'attempted', 'establish', 'contact', 'new', 'point', 'contact', '(', ')', '.', 'After', 'visiting', 'branch', ',', 'located', 'chatting', 'representative', '.', 'I', 'attempted', 'two', 'phone', 'calls', 'direct', '(', ')', ',', 'went', 'directly', 'voicemail', ',', 'without', 'return', 'phone', 'call', 'email', ',', 'etc', '.', 'I', 'come', 'conclusion', 'Home', 'Mortgage', 'want', 'solve', 'issue', 'I', 'may', 'resolve', 'confusion', 'accounts', '.', 'What', 'today', ',', 'listen', 'concerns', 'intently', 'assured', 'everything', 'power', 'control', 'make', 'certain', 'I', 'pleasurable', 'experience', 'moving', 'forward', '.', 'Since', 'first', 'contacting', 'Home', 'Mortgage', 'numerous', 'points', 'contacts', 'hope', 'obtain', 'sort', 'resolution', 'payments', 'applied', '.', 'Not', 'Home', 'Mortgage', 'request', 'receipts', ',', 'bills', ',', 'proof', ',', 'yet', 'continue', 'send', 'information', 'collection', 'foreclosure', 'bureaus', '.', 'It', 'disturbing', 'conglomerate', 'magnitude', 'operates', 'low', 'level', '.', 'Attached', 'payment', 'history', 'I', 'deposited', 'daily', 'basis', '.', 'Store', '{', '$', '760.00', '}', '.', 'Store', '{', '$', '760.00', '}', '.', 'Store', '{', '$', '760.00', '}', '.', 'Store', '{', '$', '760.00', '}', '.', '{', '$', '810.00', '}', '.', 'Store', '{', '$', '810.00', '}', '.', 'Store', '{', '$', '810.00', '}', '.', '{', '$', '800.00', '}', '.', 'Store', '{', '$', '840.00', '}', '.', 'Store', '{', '$', '770.00', '}', '.', '{', '$', '50.00', '}', '.', 'Store', '{', '$', '1300.00', '}', '.', '$', 'funds', '{', '$', '540.00', '}', '{', '$', '840.00', '}', '.', 'Store', '$', 'funds', 'XX/XX/XXXX/Total', '{', '$', '1600.00', '}', '.', 'All', 'totaling', '{', '$', '11000.00', '}', '.', 'The', 'following', 'information', 'readily', 'available', 'records', 'banks', ',', 'Home', 'Mortgage', 'chose', 'apply', 'deposits', 'question', '.', 'There', 'several', 'unauthorized', 'escrow', 'analysis', 'without', 'knowledge', 'consent', ',', 'yet', 'I', 'received', 'definitive', 'answer', 'concerns', ',', 'robo', 'replies', '.', 'To', 'suggest', '``', 'We', 'unable', 'establish', 'contact', '``', ',', 'especially', 'I', 'make', 'opportunity', 'call', '(', ')', 'contact', 'Ceo', \"'s\", 'directly', '.', 'It', 'hope', 'anyone', 'Home', 'Mortgage', ',', 'will', 'address', 'repeated', 'concerns', '.']\n"
     ]
    }
   ],
   "source": [
    "print(filtered_text)"
   ]
  },
  {
   "cell_type": "code",
   "execution_count": 52,
   "metadata": {},
   "outputs": [],
   "source": [
    "text = filtered_text"
   ]
  },
  {
   "cell_type": "markdown",
   "metadata": {},
   "source": [
    "## Punctuation cleaning"
   ]
  },
  {
   "cell_type": "code",
   "execution_count": 38,
   "metadata": {},
   "outputs": [],
   "source": [
    " def remove_punctuation(input_text):\n",
    "\n",
    "        punct = string.punctuation\n",
    "        trantab = str.maketrans(punct, len(punct)*' ')  # Every punctuation symbol will be replaced by a space\n",
    "        return input_text.translate(trantab)\n",
    "    "
   ]
  },
  {
   "cell_type": "code",
   "execution_count": 39,
   "metadata": {},
   "outputs": [
    {
     "ename": "AttributeError",
     "evalue": "'list' object has no attribute 'translate'",
     "output_type": "error",
     "traceback": [
      "\u001b[0;31m---------------------------------------------------------------------------\u001b[0m",
      "\u001b[0;31mAttributeError\u001b[0m                            Traceback (most recent call last)",
      "\u001b[0;32m<ipython-input-39-eca9a99db5ca>\u001b[0m in \u001b[0;36m<module>\u001b[0;34m\u001b[0m\n\u001b[0;32m----> 1\u001b[0;31m \u001b[0mremove_punctuation\u001b[0m\u001b[0;34m(\u001b[0m\u001b[0minput_text\u001b[0m \u001b[0;34m=\u001b[0m \u001b[0mfiltered_text\u001b[0m\u001b[0;34m)\u001b[0m\u001b[0;34m\u001b[0m\u001b[0;34m\u001b[0m\u001b[0m\n\u001b[0m",
      "\u001b[0;32m<ipython-input-38-8e2d0f9b4a8b>\u001b[0m in \u001b[0;36mremove_punctuation\u001b[0;34m(input_text)\u001b[0m\n\u001b[1;32m      3\u001b[0m        \u001b[0mpunct\u001b[0m \u001b[0;34m=\u001b[0m \u001b[0mstring\u001b[0m\u001b[0;34m.\u001b[0m\u001b[0mpunctuation\u001b[0m\u001b[0;34m\u001b[0m\u001b[0;34m\u001b[0m\u001b[0m\n\u001b[1;32m      4\u001b[0m        \u001b[0mtrantab\u001b[0m \u001b[0;34m=\u001b[0m \u001b[0mstr\u001b[0m\u001b[0;34m.\u001b[0m\u001b[0mmaketrans\u001b[0m\u001b[0;34m(\u001b[0m\u001b[0mpunct\u001b[0m\u001b[0;34m,\u001b[0m \u001b[0mlen\u001b[0m\u001b[0;34m(\u001b[0m\u001b[0mpunct\u001b[0m\u001b[0;34m)\u001b[0m\u001b[0;34m*\u001b[0m\u001b[0;34m' '\u001b[0m\u001b[0;34m)\u001b[0m  \u001b[0;31m# Every punctuation symbol will be replaced by a space\u001b[0m\u001b[0;34m\u001b[0m\u001b[0;34m\u001b[0m\u001b[0m\n\u001b[0;32m----> 5\u001b[0;31m        \u001b[0;32mreturn\u001b[0m \u001b[0minput_text\u001b[0m\u001b[0;34m.\u001b[0m\u001b[0mtranslate\u001b[0m\u001b[0;34m(\u001b[0m\u001b[0mtrantab\u001b[0m\u001b[0;34m)\u001b[0m\u001b[0;34m\u001b[0m\u001b[0;34m\u001b[0m\u001b[0m\n\u001b[0m\u001b[1;32m      6\u001b[0m \u001b[0;34m\u001b[0m\u001b[0m\n",
      "\u001b[0;31mAttributeError\u001b[0m: 'list' object has no attribute 'translate'"
     ]
    }
   ],
   "source": [
    "remove_punctuation(input_text = filtered_text)"
   ]
  },
  {
   "cell_type": "code",
   "execution_count": null,
   "metadata": {},
   "outputs": [],
   "source": []
  }
 ],
 "metadata": {
  "kernelspec": {
   "display_name": "Python 3",
   "language": "python",
   "name": "python3"
  },
  "language_info": {
   "codemirror_mode": {
    "name": "ipython",
    "version": 3
   },
   "file_extension": ".py",
   "mimetype": "text/x-python",
   "name": "python",
   "nbconvert_exporter": "python",
   "pygments_lexer": "ipython3",
   "version": "3.7.3"
  }
 },
 "nbformat": 4,
 "nbformat_minor": 2
}
