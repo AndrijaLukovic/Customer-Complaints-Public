{
 "cells": [
  {
   "cell_type": "code",
   "execution_count": 1,
   "metadata": {},
   "outputs": [
    {
     "name": "stderr",
     "output_type": "stream",
     "text": [
      "Using TensorFlow backend.\n"
     ]
    }
   ],
   "source": [
    "import pandas as pd\n",
    "import numpy as np\n",
    "import matplotlib.pyplot as plt\n",
    "import seaborn as sns\n",
    "\n",
    "from sklearn.model_selection import train_test_split\n",
    "from imblearn.over_sampling import SMOTE\n",
    "\n",
    "\n",
    "from sklearn.linear_model import LogisticRegression\n",
    "\n",
    "from sklearn import metrics, svm\n",
    "from sklearn.metrics import confusion_matrix, classification_report, roc_auc_score, roc_curve, accuracy_score\n",
    "\n",
    "import xgboost as xgb\n",
    "\n",
    "from catboost import CatBoostClassifier, Pool\n",
    "\n",
    "from sklearn.neighbors import KNeighborsClassifier\n",
    "\n",
    "from sklearn.tree import DecisionTreeClassifier\n",
    "\n",
    "from sklearn.ensemble import RandomForestClassifier"
   ]
  },
  {
   "cell_type": "code",
   "execution_count": 2,
   "metadata": {},
   "outputs": [],
   "source": [
    "data = pd.read_csv(\"/home/andrija/Desktop/customer_complaints/notebooks/processed_data_label.csv\")\n",
    "data.drop(columns=['Unnamed: 0'], inplace=True)"
   ]
  },
  {
   "cell_type": "markdown",
   "metadata": {},
   "source": [
    "## Further Feature Engineering"
   ]
  },
  {
   "cell_type": "code",
   "execution_count": 3,
   "metadata": {},
   "outputs": [],
   "source": [
    "data.drop(columns=['Company public response', 'Timely response?', 'Tags', 'Consumer complaint narrative',\n",
    "                   'Day sent to company', 'Sub-issue'], inplace=True)"
   ]
  },
  {
   "cell_type": "markdown",
   "metadata": {},
   "source": [
    "## Predictor Separation"
   ]
  },
  {
   "cell_type": "code",
   "execution_count": 4,
   "metadata": {},
   "outputs": [],
   "source": [
    "y = data['Consumer disputed?'].copy()\n",
    "X = data.drop(['Consumer disputed?'], axis=1).copy()"
   ]
  },
  {
   "cell_type": "code",
   "execution_count": 5,
   "metadata": {},
   "outputs": [
    {
     "data": {
      "image/png": "[encoded data removed]",
      "text/plain": [
       "<Figure size 576x576 with 1 Axes>"
      ]
     },
     "metadata": {
      "needs_background": "light"
     },
     "output_type": "display_data"
    }
   ],
   "source": [
    "plt.figure(figsize=(8, 8))\n",
    "sns.countplot('Consumer disputed?', data=data)\n",
    "plt.title('Target Feature Imbalance')\n",
    "plt.show()"
   ]
  },
  {
   "cell_type": "markdown",
   "metadata": {},
   "source": [
    "## Train/Test Split"
   ]
  },
  {
   "cell_type": "code",
   "execution_count": 5,
   "metadata": {},
   "outputs": [],
   "source": [
    "X_train, X_test, y_train, y_test = train_test_split(X, y, test_size=0.3, random_state=40, stratify=y)"
   ]
  },
  {
   "cell_type": "markdown",
   "metadata": {},
   "source": [
    "## Imbalance of Target Feature"
   ]
  },
  {
   "cell_type": "markdown",
   "metadata": {},
   "source": [
    "### Undersampling 'Consumer disputed?' "
   ]
  },
  {
   "cell_type": "code",
   "execution_count": 7,
   "metadata": {},
   "outputs": [],
   "source": [
    "# data_train = pd.concat([X_train, y_train], axis=1)\n",
    "\n",
    "# data_shuffled = data_train.sample(frac=1, random_state=4)\n",
    "# disputed = data_shuffled.loc[data_shuffled['Consumer disputed?'] == 1]\n",
    "\n",
    "# non_disputed = data_shuffled.loc[data_shuffled['Consumer disputed?'] == 0].sample(n=disputed.shape[0],random_state=42)\n",
    "# balanced_data = pd.concat([disputed, non_disputed])\n",
    "\n",
    "# X_train = balanced_data.drop(['Consumer disputed?'], axis=1)\n",
    "# y_train = balanced_data['Consumer disputed?'].copy()"
   ]
  },
  {
   "cell_type": "markdown",
   "metadata": {},
   "source": [
    "### SMOTE Oversampling"
   ]
  },
  {
   "cell_type": "code",
   "execution_count": 6,
   "metadata": {},
   "outputs": [
    {
     "data": {
      "text/plain": [
       "Consumer disputed?    29384\n",
       "dtype: int64"
      ]
     },
     "execution_count": 6,
     "metadata": {},
     "output_type": "execute_result"
    }
   ],
   "source": [
    "os = SMOTE(random_state=42)\n",
    "\n",
    "columns = X_train.columns\n",
    "\n",
    "os_data_X, os_data_y = os.fit_resample(X_train, y_train)\n",
    "\n",
    "os_data_X = pd.DataFrame(data=os_data_X, columns=columns )\n",
    "os_data_y= pd.DataFrame(data=os_data_y, columns=['Consumer disputed?'])\n",
    "\n",
    "balanced_data = pd.concat([os_data_X, os_data_y], sort=False)\n",
    "\n",
    "os_data_y.sum()"
   ]
  },
  {
   "cell_type": "code",
   "execution_count": 9,
   "metadata": {},
   "outputs": [
    {
     "data": {
      "image/png": "[encoded data removed]",
      "text/plain": [
       "<Figure size 576x576 with 1 Axes>"
      ]
     },
     "metadata": {
      "needs_background": "light"
     },
     "output_type": "display_data"
    }
   ],
   "source": [
    "plt.figure(figsize=(8, 8))\n",
    "sns.countplot('Consumer disputed?', data=balanced_data)\n",
    "plt.title('Balanced Target Feature')\n",
    "plt.show()"
   ]
  },
  {
   "cell_type": "markdown",
   "metadata": {},
   "source": [
    "### Train Data"
   ]
  },
  {
   "cell_type": "code",
   "execution_count": 7,
   "metadata": {},
   "outputs": [],
   "source": [
    "X_train = os_data_X\n",
    "y_train = np.array(os_data_y).ravel()"
   ]
  },
  {
   "cell_type": "markdown",
   "metadata": {},
   "source": [
    "## Logistig Regression"
   ]
  },
  {
   "cell_type": "code",
   "execution_count": 246,
   "metadata": {},
   "outputs": [],
   "source": [
    "log = LogisticRegression(C=0.05, random_state=43, solver='lbfgs', max_iter=1000)"
   ]
  },
  {
   "cell_type": "code",
   "execution_count": 247,
   "metadata": {},
   "outputs": [
    {
     "data": {
      "text/plain": [
       "LogisticRegression(C=0.05, class_weight=None, dual=False, fit_intercept=True,\n",
       "                   intercept_scaling=1, l1_ratio=None, max_iter=1000,\n",
       "                   multi_class='warn', n_jobs=None, penalty='l2',\n",
       "                   random_state=43, solver='lbfgs', tol=0.0001, verbose=0,\n",
       "                   warm_start=False)"
      ]
     },
     "execution_count": 247,
     "metadata": {},
     "output_type": "execute_result"
    }
   ],
   "source": [
    "log.fit(X_train, y_train)"
   ]
  },
  {
   "cell_type": "code",
   "execution_count": 248,
   "metadata": {},
   "outputs": [],
   "source": [
    "y_pred = log.predict(X_test)"
   ]
  },
  {
   "cell_type": "code",
   "execution_count": 249,
   "metadata": {},
   "outputs": [
    {
     "data": {
      "text/plain": [
       "0.5212316861186987"
      ]
     },
     "execution_count": 249,
     "metadata": {},
     "output_type": "execute_result"
    }
   ],
   "source": [
    "log.score(X_test, y_test)"
   ]
  },
  {
   "cell_type": "code",
   "execution_count": 250,
   "metadata": {},
   "outputs": [
    {
     "data": {
      "text/plain": [
       "0.5102463277765347"
      ]
     },
     "execution_count": 250,
     "metadata": {},
     "output_type": "execute_result"
    }
   ],
   "source": [
    "roc_auc_score(y_test, y_pred)"
   ]
  },
  {
   "cell_type": "code",
   "execution_count": 251,
   "metadata": {},
   "outputs": [],
   "source": [
    "confusion = confusion_matrix(y_test, y_pred)"
   ]
  },
  {
   "cell_type": "code",
   "execution_count": 252,
   "metadata": {},
   "outputs": [
    {
     "data": {
      "text/plain": [
       "array([[6671, 5922],\n",
       "       [1790, 1725]])"
      ]
     },
     "execution_count": 252,
     "metadata": {},
     "output_type": "execute_result"
    }
   ],
   "source": [
    "confusion"
   ]
  },
  {
   "cell_type": "code",
   "execution_count": 253,
   "metadata": {},
   "outputs": [
    {
     "name": "stdout",
     "output_type": "stream",
     "text": [
      "              precision    recall  f1-score   support\n",
      "\n",
      "           0       0.79      0.53      0.63     12593\n",
      "           1       0.23      0.49      0.31      3515\n",
      "\n",
      "    accuracy                           0.52     16108\n",
      "   macro avg       0.51      0.51      0.47     16108\n",
      "weighted avg       0.67      0.52      0.56     16108\n",
      "\n"
     ]
    }
   ],
   "source": [
    "print(classification_report(y_test, y_pred))"
   ]
  },
  {
   "cell_type": "markdown",
   "metadata": {},
   "source": [
    "## XGBoost"
   ]
  },
  {
   "cell_type": "code",
   "execution_count": 8,
   "metadata": {},
   "outputs": [],
   "source": [
    "xgb_model = xgb.XGBClassifier(n_estimators=100, learning_rate=0.1, subsample=0.8, max_depth=5, random_state=42)"
   ]
  },
  {
   "cell_type": "code",
   "execution_count": 9,
   "metadata": {},
   "outputs": [
    {
     "data": {
      "text/plain": [
       "XGBClassifier(base_score=0.5, booster='gbtree', colsample_bylevel=1,\n",
       "              colsample_bynode=1, colsample_bytree=1, gamma=0,\n",
       "              learning_rate=0.1, max_delta_step=0, max_depth=5,\n",
       "              min_child_weight=1, missing=None, n_estimators=100, n_jobs=1,\n",
       "              nthread=None, objective='binary:logistic', random_state=42,\n",
       "              reg_alpha=0, reg_lambda=1, scale_pos_weight=1, seed=None,\n",
       "              silent=None, subsample=0.8, verbosity=1)"
      ]
     },
     "execution_count": 9,
     "metadata": {},
     "output_type": "execute_result"
    }
   ],
   "source": [
    "xgb_model.fit(X_train, y_train)"
   ]
  },
  {
   "cell_type": "code",
   "execution_count": 10,
   "metadata": {},
   "outputs": [],
   "source": [
    "y_pred = xgb_model.predict(X_test)"
   ]
  },
  {
   "cell_type": "code",
   "execution_count": 11,
   "metadata": {},
   "outputs": [
    {
     "data": {
      "text/plain": [
       "array([[7358, 5235],\n",
       "       [1756, 1759]])"
      ]
     },
     "execution_count": 11,
     "metadata": {},
     "output_type": "execute_result"
    }
   ],
   "source": [
    "confusion_matrix(y_test, y_pred)"
   ]
  },
  {
   "cell_type": "code",
   "execution_count": 12,
   "metadata": {},
   "outputs": [
    {
     "data": {
      "text/plain": [
       "0.5659920536379439"
      ]
     },
     "execution_count": 12,
     "metadata": {},
     "output_type": "execute_result"
    }
   ],
   "source": [
    "accuracy_score(y_test, y_pred)"
   ]
  },
  {
   "cell_type": "code",
   "execution_count": 13,
   "metadata": {},
   "outputs": [
    {
     "data": {
      "text/plain": [
       "0.5423598018226613"
      ]
     },
     "execution_count": 13,
     "metadata": {},
     "output_type": "execute_result"
    }
   ],
   "source": [
    "roc_auc_score(y_test, y_pred)"
   ]
  },
  {
   "cell_type": "code",
   "execution_count": 14,
   "metadata": {},
   "outputs": [
    {
     "data": {
      "text/plain": [
       "<matplotlib.axes._subplots.AxesSubplot at 0x7f47e53b3a90>"
      ]
     },
     "execution_count": 14,
     "metadata": {},
     "output_type": "execute_result"
    },
    {
     "data": {
      "image/png": "[encoded data removed]",
      "text/plain": [
       "<Figure size 432x288 with 1 Axes>"
      ]
     },
     "metadata": {
      "needs_background": "light"
     },
     "output_type": "display_data"
    }
   ],
   "source": [
    "xgb.plot_importance(xgb_model)"
   ]
  },
  {
   "cell_type": "code",
   "execution_count": 15,
   "metadata": {},
   "outputs": [
    {
     "name": "stdout",
     "output_type": "stream",
     "text": [
      "              precision    recall  f1-score   support\n",
      "\n",
      "           0       0.81      0.58      0.68     12593\n",
      "           1       0.25      0.50      0.33      3515\n",
      "\n",
      "    accuracy                           0.57     16108\n",
      "   macro avg       0.53      0.54      0.51     16108\n",
      "weighted avg       0.69      0.57      0.60     16108\n",
      "\n"
     ]
    }
   ],
   "source": [
    "print(classification_report(y_test, y_pred))"
   ]
  },
  {
   "cell_type": "markdown",
   "metadata": {},
   "source": [
    "## SVM"
   ]
  },
  {
   "cell_type": "code",
   "execution_count": 48,
   "metadata": {},
   "outputs": [
    {
     "data": {
      "text/plain": [
       "0.4349566998789459"
      ]
     },
     "execution_count": 48,
     "metadata": {},
     "output_type": "execute_result"
    }
   ],
   "source": [
    "svc = svm.SVC(C=0.025, kernel='rbf', gamma='auto', probability=True)\n",
    "\n",
    "svc.fit(X_train, y_train)\n",
    "\n",
    "y_pred = svc.predict(X_test)\n",
    "\n",
    "accuracy_score(y_test, y_pred)"
   ]
  },
  {
   "cell_type": "markdown",
   "metadata": {},
   "source": [
    "## CatBoost"
   ]
  },
  {
   "cell_type": "code",
   "execution_count": 206,
   "metadata": {},
   "outputs": [
    {
     "name": "stdout",
     "output_type": "stream",
     "text": [
      "Learning rate set to 0.055106\n",
      "0:\tlearn: 0.6767893\ttotal: 71ms\tremaining: 1m 10s\n",
      "1:\tlearn: 0.6684233\ttotal: 91.3ms\tremaining: 45.6s\n",
      "2:\tlearn: 0.6572256\ttotal: 111ms\tremaining: 37s\n",
      "3:\tlearn: 0.6433201\ttotal: 129ms\tremaining: 32.2s\n",
      "4:\tlearn: 0.6351820\ttotal: 142ms\tremaining: 28.3s\n",
      "5:\tlearn: 0.6267125\ttotal: 155ms\tremaining: 25.7s\n",
      "6:\tlearn: 0.6227038\ttotal: 168ms\tremaining: 23.9s\n",
      "7:\tlearn: 0.6127581\ttotal: 181ms\tremaining: 22.5s\n",
      "8:\tlearn: 0.6066760\ttotal: 218ms\tremaining: 24s\n",
      "9:\tlearn: 0.5987279\ttotal: 242ms\tremaining: 24s\n",
      "10:\tlearn: 0.5940096\ttotal: 262ms\tremaining: 23.6s\n",
      "11:\tlearn: 0.5911260\ttotal: 280ms\tremaining: 23.1s\n",
      "12:\tlearn: 0.5863356\ttotal: 294ms\tremaining: 22.3s\n",
      "13:\tlearn: 0.5825363\ttotal: 307ms\tremaining: 21.6s\n",
      "14:\tlearn: 0.5803883\ttotal: 319ms\tremaining: 21s\n",
      "15:\tlearn: 0.5758507\ttotal: 332ms\tremaining: 20.4s\n",
      "16:\tlearn: 0.5726222\ttotal: 345ms\tremaining: 20s\n",
      "17:\tlearn: 0.5658902\ttotal: 358ms\tremaining: 19.5s\n",
      "18:\tlearn: 0.5631461\ttotal: 369ms\tremaining: 19.1s\n",
      "19:\tlearn: 0.5543924\ttotal: 382ms\tremaining: 18.7s\n",
      "20:\tlearn: 0.5523571\ttotal: 395ms\tremaining: 18.4s\n",
      "21:\tlearn: 0.5504505\ttotal: 408ms\tremaining: 18.1s\n",
      "22:\tlearn: 0.5463449\ttotal: 424ms\tremaining: 18s\n",
      "23:\tlearn: 0.5441523\ttotal: 449ms\tremaining: 18.3s\n",
      "24:\tlearn: 0.5417049\ttotal: 463ms\tremaining: 18.1s\n",
      "25:\tlearn: 0.5393524\ttotal: 476ms\tremaining: 17.8s\n",
      "26:\tlearn: 0.5377222\ttotal: 489ms\tremaining: 17.6s\n",
      "27:\tlearn: 0.5330653\ttotal: 503ms\tremaining: 17.5s\n",
      "28:\tlearn: 0.5301656\ttotal: 516ms\tremaining: 17.3s\n",
      "29:\tlearn: 0.5280819\ttotal: 529ms\tremaining: 17.1s\n",
      "30:\tlearn: 0.5259821\ttotal: 542ms\tremaining: 17s\n",
      "31:\tlearn: 0.5241314\ttotal: 555ms\tremaining: 16.8s\n",
      "32:\tlearn: 0.5229321\ttotal: 568ms\tremaining: 16.6s\n",
      "33:\tlearn: 0.5196339\ttotal: 581ms\tremaining: 16.5s\n",
      "34:\tlearn: 0.5171357\ttotal: 594ms\tremaining: 16.4s\n",
      "35:\tlearn: 0.5155851\ttotal: 607ms\tremaining: 16.3s\n",
      "36:\tlearn: 0.5125016\ttotal: 621ms\tremaining: 16.2s\n",
      "37:\tlearn: 0.5089442\ttotal: 638ms\tremaining: 16.2s\n",
      "38:\tlearn: 0.5047743\ttotal: 662ms\tremaining: 16.3s\n",
      "39:\tlearn: 0.5010903\ttotal: 682ms\tremaining: 16.4s\n",
      "40:\tlearn: 0.5006731\ttotal: 702ms\tremaining: 16.4s\n",
      "41:\tlearn: 0.4976814\ttotal: 715ms\tremaining: 16.3s\n",
      "42:\tlearn: 0.4965522\ttotal: 728ms\tremaining: 16.2s\n",
      "43:\tlearn: 0.4940928\ttotal: 742ms\tremaining: 16.1s\n",
      "44:\tlearn: 0.4917591\ttotal: 755ms\tremaining: 16s\n",
      "45:\tlearn: 0.4906525\ttotal: 767ms\tremaining: 15.9s\n",
      "46:\tlearn: 0.4891706\ttotal: 780ms\tremaining: 15.8s\n",
      "47:\tlearn: 0.4871587\ttotal: 794ms\tremaining: 15.7s\n",
      "48:\tlearn: 0.4846226\ttotal: 810ms\tremaining: 15.7s\n",
      "49:\tlearn: 0.4825277\ttotal: 823ms\tremaining: 15.6s\n",
      "50:\tlearn: 0.4807061\ttotal: 836ms\tremaining: 15.6s\n",
      "51:\tlearn: 0.4797474\ttotal: 857ms\tremaining: 15.6s\n",
      "52:\tlearn: 0.4785003\ttotal: 875ms\tremaining: 15.6s\n",
      "53:\tlearn: 0.4754894\ttotal: 889ms\tremaining: 15.6s\n",
      "54:\tlearn: 0.4749634\ttotal: 902ms\tremaining: 15.5s\n",
      "55:\tlearn: 0.4742389\ttotal: 915ms\tremaining: 15.4s\n",
      "56:\tlearn: 0.4730410\ttotal: 928ms\tremaining: 15.4s\n",
      "57:\tlearn: 0.4703048\ttotal: 941ms\tremaining: 15.3s\n",
      "58:\tlearn: 0.4695447\ttotal: 954ms\tremaining: 15.2s\n",
      "59:\tlearn: 0.4677946\ttotal: 968ms\tremaining: 15.2s\n",
      "60:\tlearn: 0.4657444\ttotal: 981ms\tremaining: 15.1s\n",
      "61:\tlearn: 0.4646948\ttotal: 994ms\tremaining: 15s\n",
      "62:\tlearn: 0.4631474\ttotal: 1.01s\tremaining: 15s\n",
      "63:\tlearn: 0.4619570\ttotal: 1.03s\tremaining: 15.1s\n",
      "64:\tlearn: 0.4610016\ttotal: 1.05s\tremaining: 15.1s\n",
      "65:\tlearn: 0.4605066\ttotal: 1.07s\tremaining: 15.1s\n",
      "66:\tlearn: 0.4600767\ttotal: 1.09s\tremaining: 15.3s\n",
      "67:\tlearn: 0.4593022\ttotal: 1.11s\tremaining: 15.2s\n",
      "68:\tlearn: 0.4590644\ttotal: 1.12s\tremaining: 15.1s\n",
      "69:\tlearn: 0.4584797\ttotal: 1.13s\tremaining: 15.1s\n",
      "70:\tlearn: 0.4575411\ttotal: 1.15s\tremaining: 15s\n",
      "71:\tlearn: 0.4566493\ttotal: 1.16s\tremaining: 14.9s\n",
      "72:\tlearn: 0.4557695\ttotal: 1.17s\tremaining: 14.9s\n",
      "73:\tlearn: 0.4551642\ttotal: 1.19s\tremaining: 14.8s\n",
      "74:\tlearn: 0.4544496\ttotal: 1.2s\tremaining: 14.8s\n",
      "75:\tlearn: 0.4537282\ttotal: 1.21s\tremaining: 14.7s\n",
      "76:\tlearn: 0.4529624\ttotal: 1.22s\tremaining: 14.7s\n",
      "77:\tlearn: 0.4516278\ttotal: 1.24s\tremaining: 14.6s\n",
      "78:\tlearn: 0.4504399\ttotal: 1.25s\tremaining: 14.6s\n",
      "79:\tlearn: 0.4486392\ttotal: 1.26s\tremaining: 14.5s\n",
      "80:\tlearn: 0.4473348\ttotal: 1.29s\tremaining: 14.6s\n",
      "81:\tlearn: 0.4464808\ttotal: 1.31s\tremaining: 14.7s\n",
      "82:\tlearn: 0.4462140\ttotal: 1.32s\tremaining: 14.6s\n",
      "83:\tlearn: 0.4460016\ttotal: 1.34s\tremaining: 14.6s\n",
      "84:\tlearn: 0.4444403\ttotal: 1.35s\tremaining: 14.5s\n",
      "85:\tlearn: 0.4434682\ttotal: 1.36s\tremaining: 14.5s\n",
      "86:\tlearn: 0.4424071\ttotal: 1.38s\tremaining: 14.5s\n",
      "87:\tlearn: 0.4421458\ttotal: 1.39s\tremaining: 14.4s\n",
      "88:\tlearn: 0.4409582\ttotal: 1.4s\tremaining: 14.4s\n",
      "89:\tlearn: 0.4395647\ttotal: 1.42s\tremaining: 14.3s\n",
      "90:\tlearn: 0.4391552\ttotal: 1.43s\tremaining: 14.3s\n",
      "91:\tlearn: 0.4389547\ttotal: 1.44s\tremaining: 14.2s\n",
      "92:\tlearn: 0.4387948\ttotal: 1.46s\tremaining: 14.2s\n",
      "93:\tlearn: 0.4367791\ttotal: 1.47s\tremaining: 14.2s\n",
      "94:\tlearn: 0.4355881\ttotal: 1.48s\tremaining: 14.1s\n",
      "95:\tlearn: 0.4347417\ttotal: 1.5s\tremaining: 14.2s\n",
      "96:\tlearn: 0.4344538\ttotal: 1.53s\tremaining: 14.3s\n",
      "97:\tlearn: 0.4341430\ttotal: 1.55s\tremaining: 14.3s\n",
      "98:\tlearn: 0.4338088\ttotal: 1.56s\tremaining: 14.2s\n",
      "99:\tlearn: 0.4333869\ttotal: 1.58s\tremaining: 14.2s\n",
      "100:\tlearn: 0.4329238\ttotal: 1.59s\tremaining: 14.2s\n",
      "101:\tlearn: 0.4324726\ttotal: 1.6s\tremaining: 14.1s\n",
      "102:\tlearn: 0.4317742\ttotal: 1.61s\tremaining: 14.1s\n",
      "103:\tlearn: 0.4309338\ttotal: 1.63s\tremaining: 14s\n",
      "104:\tlearn: 0.4306117\ttotal: 1.64s\tremaining: 14s\n",
      "105:\tlearn: 0.4302108\ttotal: 1.65s\tremaining: 14s\n",
      "106:\tlearn: 0.4291613\ttotal: 1.67s\tremaining: 13.9s\n",
      "107:\tlearn: 0.4284586\ttotal: 1.68s\tremaining: 13.9s\n",
      "108:\tlearn: 0.4282065\ttotal: 1.69s\tremaining: 13.8s\n",
      "109:\tlearn: 0.4277849\ttotal: 1.71s\tremaining: 13.8s\n",
      "110:\tlearn: 0.4275386\ttotal: 1.74s\tremaining: 13.9s\n",
      "111:\tlearn: 0.4271679\ttotal: 1.76s\tremaining: 14s\n",
      "112:\tlearn: 0.4266233\ttotal: 1.78s\tremaining: 14s\n",
      "113:\tlearn: 0.4260041\ttotal: 1.8s\tremaining: 14s\n",
      "114:\tlearn: 0.4255318\ttotal: 1.82s\tremaining: 14s\n",
      "115:\tlearn: 0.4249835\ttotal: 1.83s\tremaining: 13.9s\n",
      "116:\tlearn: 0.4237558\ttotal: 1.84s\tremaining: 13.9s\n",
      "117:\tlearn: 0.4233606\ttotal: 1.86s\tremaining: 13.9s\n",
      "118:\tlearn: 0.4231940\ttotal: 1.87s\tremaining: 13.8s\n",
      "119:\tlearn: 0.4230490\ttotal: 1.88s\tremaining: 13.8s\n",
      "120:\tlearn: 0.4225519\ttotal: 1.9s\tremaining: 13.8s\n",
      "121:\tlearn: 0.4221885\ttotal: 1.91s\tremaining: 13.8s\n",
      "122:\tlearn: 0.4218027\ttotal: 1.93s\tremaining: 13.8s\n",
      "123:\tlearn: 0.4217051\ttotal: 1.95s\tremaining: 13.8s\n",
      "124:\tlearn: 0.4206333\ttotal: 1.97s\tremaining: 13.8s\n",
      "125:\tlearn: 0.4204921\ttotal: 1.98s\tremaining: 13.7s\n",
      "126:\tlearn: 0.4196856\ttotal: 1.99s\tremaining: 13.7s\n",
      "127:\tlearn: 0.4193441\ttotal: 2s\tremaining: 13.7s\n",
      "128:\tlearn: 0.4190257\ttotal: 2.02s\tremaining: 13.6s\n",
      "129:\tlearn: 0.4188780\ttotal: 2.03s\tremaining: 13.6s\n",
      "130:\tlearn: 0.4187211\ttotal: 2.04s\tremaining: 13.6s\n",
      "131:\tlearn: 0.4185976\ttotal: 2.06s\tremaining: 13.5s\n",
      "132:\tlearn: 0.4185009\ttotal: 2.07s\tremaining: 13.5s\n",
      "133:\tlearn: 0.4175918\ttotal: 2.08s\tremaining: 13.5s\n",
      "134:\tlearn: 0.4171616\ttotal: 2.1s\tremaining: 13.4s\n",
      "135:\tlearn: 0.4165902\ttotal: 2.11s\tremaining: 13.4s\n",
      "136:\tlearn: 0.4164483\ttotal: 2.14s\tremaining: 13.5s\n",
      "137:\tlearn: 0.4161442\ttotal: 2.15s\tremaining: 13.5s\n",
      "138:\tlearn: 0.4153625\ttotal: 2.17s\tremaining: 13.4s\n",
      "139:\tlearn: 0.4151459\ttotal: 2.18s\tremaining: 13.4s\n",
      "140:\tlearn: 0.4146463\ttotal: 2.19s\tremaining: 13.4s\n",
      "141:\tlearn: 0.4135892\ttotal: 2.21s\tremaining: 13.3s\n",
      "142:\tlearn: 0.4134555\ttotal: 2.22s\tremaining: 13.3s\n",
      "143:\tlearn: 0.4132714\ttotal: 2.23s\tremaining: 13.3s\n",
      "144:\tlearn: 0.4125677\ttotal: 2.25s\tremaining: 13.2s\n",
      "145:\tlearn: 0.4119104\ttotal: 2.26s\tremaining: 13.2s\n",
      "146:\tlearn: 0.4118115\ttotal: 2.27s\tremaining: 13.2s\n",
      "147:\tlearn: 0.4115877\ttotal: 2.29s\tremaining: 13.2s\n",
      "148:\tlearn: 0.4109156\ttotal: 2.3s\tremaining: 13.1s\n",
      "149:\tlearn: 0.4101248\ttotal: 2.31s\tremaining: 13.1s\n",
      "150:\tlearn: 0.4098264\ttotal: 2.33s\tremaining: 13.1s\n",
      "151:\tlearn: 0.4092919\ttotal: 2.34s\tremaining: 13s\n",
      "152:\tlearn: 0.4091616\ttotal: 2.37s\tremaining: 13.1s\n",
      "153:\tlearn: 0.4090198\ttotal: 2.39s\tremaining: 13.1s\n",
      "154:\tlearn: 0.4088062\ttotal: 2.4s\tremaining: 13.1s\n",
      "155:\tlearn: 0.4087374\ttotal: 2.41s\tremaining: 13.1s\n",
      "156:\tlearn: 0.4086580\ttotal: 2.43s\tremaining: 13s\n",
      "157:\tlearn: 0.4085816\ttotal: 2.44s\tremaining: 13s\n",
      "158:\tlearn: 0.4083237\ttotal: 2.45s\tremaining: 13s\n",
      "159:\tlearn: 0.4079747\ttotal: 2.47s\tremaining: 12.9s\n",
      "160:\tlearn: 0.4078142\ttotal: 2.48s\tremaining: 12.9s\n",
      "161:\tlearn: 0.4077564\ttotal: 2.49s\tremaining: 12.9s\n",
      "162:\tlearn: 0.4075896\ttotal: 2.5s\tremaining: 12.9s\n",
      "163:\tlearn: 0.4075156\ttotal: 2.52s\tremaining: 12.8s\n",
      "164:\tlearn: 0.4074588\ttotal: 2.53s\tremaining: 12.8s\n",
      "165:\tlearn: 0.4073828\ttotal: 2.54s\tremaining: 12.8s\n",
      "166:\tlearn: 0.4067767\ttotal: 2.56s\tremaining: 12.8s\n"
     ]
    },
    {
     "name": "stdout",
     "output_type": "stream",
     "text": [
      "167:\tlearn: 0.4063435\ttotal: 2.57s\tremaining: 12.7s\n",
      "168:\tlearn: 0.4062801\ttotal: 2.6s\tremaining: 12.8s\n",
      "169:\tlearn: 0.4057954\ttotal: 2.61s\tremaining: 12.8s\n",
      "170:\tlearn: 0.4053543\ttotal: 2.63s\tremaining: 12.7s\n",
      "171:\tlearn: 0.4045379\ttotal: 2.64s\tremaining: 12.7s\n",
      "172:\tlearn: 0.4043582\ttotal: 2.65s\tremaining: 12.7s\n",
      "173:\tlearn: 0.4042885\ttotal: 2.67s\tremaining: 12.7s\n",
      "174:\tlearn: 0.4041669\ttotal: 2.68s\tremaining: 12.6s\n",
      "175:\tlearn: 0.4039032\ttotal: 2.69s\tremaining: 12.6s\n",
      "176:\tlearn: 0.4036186\ttotal: 2.71s\tremaining: 12.6s\n",
      "177:\tlearn: 0.4035545\ttotal: 2.72s\tremaining: 12.6s\n",
      "178:\tlearn: 0.4029589\ttotal: 2.73s\tremaining: 12.5s\n",
      "179:\tlearn: 0.4028238\ttotal: 2.75s\tremaining: 12.5s\n",
      "180:\tlearn: 0.4026896\ttotal: 2.76s\tremaining: 12.5s\n",
      "181:\tlearn: 0.4025343\ttotal: 2.77s\tremaining: 12.5s\n",
      "182:\tlearn: 0.4024440\ttotal: 2.79s\tremaining: 12.5s\n",
      "183:\tlearn: 0.4021345\ttotal: 2.81s\tremaining: 12.5s\n",
      "184:\tlearn: 0.4019221\ttotal: 2.82s\tremaining: 12.4s\n",
      "185:\tlearn: 0.4014677\ttotal: 2.83s\tremaining: 12.4s\n",
      "186:\tlearn: 0.4011663\ttotal: 2.85s\tremaining: 12.4s\n",
      "187:\tlearn: 0.4009637\ttotal: 2.86s\tremaining: 12.4s\n",
      "188:\tlearn: 0.4005648\ttotal: 2.87s\tremaining: 12.3s\n",
      "189:\tlearn: 0.4001810\ttotal: 2.89s\tremaining: 12.3s\n",
      "190:\tlearn: 0.3998419\ttotal: 2.9s\tremaining: 12.3s\n",
      "191:\tlearn: 0.3987570\ttotal: 2.91s\tremaining: 12.3s\n",
      "192:\tlearn: 0.3977637\ttotal: 2.93s\tremaining: 12.2s\n",
      "193:\tlearn: 0.3976810\ttotal: 2.94s\tremaining: 12.2s\n",
      "194:\tlearn: 0.3976324\ttotal: 2.95s\tremaining: 12.2s\n",
      "195:\tlearn: 0.3975057\ttotal: 2.96s\tremaining: 12.2s\n",
      "196:\tlearn: 0.3974145\ttotal: 2.98s\tremaining: 12.1s\n",
      "197:\tlearn: 0.3967192\ttotal: 2.99s\tremaining: 12.1s\n",
      "198:\tlearn: 0.3966381\ttotal: 3.01s\tremaining: 12.1s\n",
      "199:\tlearn: 0.3960206\ttotal: 3.03s\tremaining: 12.1s\n",
      "200:\tlearn: 0.3958945\ttotal: 3.04s\tremaining: 12.1s\n",
      "201:\tlearn: 0.3953966\ttotal: 3.05s\tremaining: 12.1s\n",
      "202:\tlearn: 0.3953389\ttotal: 3.07s\tremaining: 12s\n",
      "203:\tlearn: 0.3952563\ttotal: 3.08s\tremaining: 12s\n",
      "204:\tlearn: 0.3945863\ttotal: 3.09s\tremaining: 12s\n",
      "205:\tlearn: 0.3943731\ttotal: 3.11s\tremaining: 12s\n",
      "206:\tlearn: 0.3939299\ttotal: 3.12s\tremaining: 11.9s\n",
      "207:\tlearn: 0.3938475\ttotal: 3.13s\tremaining: 11.9s\n",
      "208:\tlearn: 0.3937311\ttotal: 3.15s\tremaining: 11.9s\n",
      "209:\tlearn: 0.3931051\ttotal: 3.16s\tremaining: 11.9s\n",
      "210:\tlearn: 0.3929402\ttotal: 3.18s\tremaining: 11.9s\n",
      "211:\tlearn: 0.3928994\ttotal: 3.19s\tremaining: 11.9s\n",
      "212:\tlearn: 0.3928052\ttotal: 3.21s\tremaining: 11.8s\n",
      "213:\tlearn: 0.3921901\ttotal: 3.22s\tremaining: 11.8s\n",
      "214:\tlearn: 0.3914301\ttotal: 3.24s\tremaining: 11.8s\n",
      "215:\tlearn: 0.3912374\ttotal: 3.25s\tremaining: 11.8s\n",
      "216:\tlearn: 0.3910353\ttotal: 3.27s\tremaining: 11.8s\n",
      "217:\tlearn: 0.3909534\ttotal: 3.28s\tremaining: 11.8s\n",
      "218:\tlearn: 0.3904662\ttotal: 3.29s\tremaining: 11.7s\n",
      "219:\tlearn: 0.3901368\ttotal: 3.31s\tremaining: 11.7s\n",
      "220:\tlearn: 0.3900240\ttotal: 3.32s\tremaining: 11.7s\n",
      "221:\tlearn: 0.3897419\ttotal: 3.33s\tremaining: 11.7s\n",
      "222:\tlearn: 0.3895063\ttotal: 3.35s\tremaining: 11.7s\n",
      "223:\tlearn: 0.3894195\ttotal: 3.36s\tremaining: 11.6s\n",
      "224:\tlearn: 0.3893265\ttotal: 3.37s\tremaining: 11.6s\n",
      "225:\tlearn: 0.3888865\ttotal: 3.38s\tremaining: 11.6s\n",
      "226:\tlearn: 0.3885763\ttotal: 3.4s\tremaining: 11.6s\n",
      "227:\tlearn: 0.3872018\ttotal: 3.41s\tremaining: 11.5s\n",
      "228:\tlearn: 0.3871206\ttotal: 3.42s\tremaining: 11.5s\n",
      "229:\tlearn: 0.3868505\ttotal: 3.44s\tremaining: 11.5s\n",
      "230:\tlearn: 0.3864731\ttotal: 3.46s\tremaining: 11.5s\n",
      "231:\tlearn: 0.3861205\ttotal: 3.47s\tremaining: 11.5s\n",
      "232:\tlearn: 0.3858046\ttotal: 3.48s\tremaining: 11.5s\n",
      "233:\tlearn: 0.3849803\ttotal: 3.5s\tremaining: 11.5s\n",
      "234:\tlearn: 0.3844013\ttotal: 3.51s\tremaining: 11.4s\n",
      "235:\tlearn: 0.3843050\ttotal: 3.52s\tremaining: 11.4s\n",
      "236:\tlearn: 0.3837772\ttotal: 3.54s\tremaining: 11.4s\n",
      "237:\tlearn: 0.3837024\ttotal: 3.55s\tremaining: 11.4s\n",
      "238:\tlearn: 0.3832868\ttotal: 3.56s\tremaining: 11.3s\n",
      "239:\tlearn: 0.3823250\ttotal: 3.58s\tremaining: 11.3s\n",
      "240:\tlearn: 0.3821540\ttotal: 3.59s\tremaining: 11.3s\n",
      "241:\tlearn: 0.3819870\ttotal: 3.6s\tremaining: 11.3s\n",
      "242:\tlearn: 0.3819120\ttotal: 3.62s\tremaining: 11.3s\n",
      "243:\tlearn: 0.3815522\ttotal: 3.63s\tremaining: 11.2s\n",
      "244:\tlearn: 0.3813068\ttotal: 3.65s\tremaining: 11.2s\n",
      "245:\tlearn: 0.3806732\ttotal: 3.67s\tremaining: 11.2s\n",
      "246:\tlearn: 0.3803158\ttotal: 3.68s\tremaining: 11.2s\n",
      "247:\tlearn: 0.3793878\ttotal: 3.7s\tremaining: 11.2s\n",
      "248:\tlearn: 0.3789873\ttotal: 3.71s\tremaining: 11.2s\n",
      "249:\tlearn: 0.3784024\ttotal: 3.72s\tremaining: 11.2s\n",
      "250:\tlearn: 0.3782973\ttotal: 3.74s\tremaining: 11.2s\n",
      "251:\tlearn: 0.3773741\ttotal: 3.75s\tremaining: 11.1s\n",
      "252:\tlearn: 0.3772649\ttotal: 3.76s\tremaining: 11.1s\n",
      "253:\tlearn: 0.3767574\ttotal: 3.78s\tremaining: 11.1s\n",
      "254:\tlearn: 0.3766877\ttotal: 3.79s\tremaining: 11.1s\n",
      "255:\tlearn: 0.3766286\ttotal: 3.8s\tremaining: 11.1s\n",
      "256:\tlearn: 0.3765684\ttotal: 3.81s\tremaining: 11s\n",
      "257:\tlearn: 0.3765128\ttotal: 3.83s\tremaining: 11s\n",
      "258:\tlearn: 0.3764547\ttotal: 3.84s\tremaining: 11s\n",
      "259:\tlearn: 0.3761682\ttotal: 3.86s\tremaining: 11s\n",
      "260:\tlearn: 0.3756849\ttotal: 3.88s\tremaining: 11s\n",
      "261:\tlearn: 0.3751835\ttotal: 3.89s\tremaining: 11s\n",
      "262:\tlearn: 0.3749061\ttotal: 3.91s\tremaining: 10.9s\n",
      "263:\tlearn: 0.3748409\ttotal: 3.92s\tremaining: 10.9s\n",
      "264:\tlearn: 0.3745756\ttotal: 3.93s\tremaining: 10.9s\n",
      "265:\tlearn: 0.3745232\ttotal: 3.94s\tremaining: 10.9s\n",
      "266:\tlearn: 0.3742565\ttotal: 3.96s\tremaining: 10.9s\n",
      "267:\tlearn: 0.3741994\ttotal: 3.97s\tremaining: 10.8s\n",
      "268:\tlearn: 0.3741436\ttotal: 3.98s\tremaining: 10.8s\n",
      "269:\tlearn: 0.3739326\ttotal: 4s\tremaining: 10.8s\n",
      "270:\tlearn: 0.3737931\ttotal: 4.01s\tremaining: 10.8s\n",
      "271:\tlearn: 0.3737322\ttotal: 4.03s\tremaining: 10.8s\n",
      "272:\tlearn: 0.3735626\ttotal: 4.04s\tremaining: 10.8s\n",
      "273:\tlearn: 0.3735039\ttotal: 4.05s\tremaining: 10.7s\n",
      "274:\tlearn: 0.3733714\ttotal: 4.07s\tremaining: 10.7s\n",
      "275:\tlearn: 0.3733188\ttotal: 4.09s\tremaining: 10.7s\n",
      "276:\tlearn: 0.3732688\ttotal: 4.11s\tremaining: 10.7s\n",
      "277:\tlearn: 0.3731782\ttotal: 4.12s\tremaining: 10.7s\n",
      "278:\tlearn: 0.3731277\ttotal: 4.13s\tremaining: 10.7s\n",
      "279:\tlearn: 0.3730093\ttotal: 4.15s\tremaining: 10.7s\n",
      "280:\tlearn: 0.3729412\ttotal: 4.16s\tremaining: 10.6s\n",
      "281:\tlearn: 0.3728910\ttotal: 4.17s\tremaining: 10.6s\n",
      "282:\tlearn: 0.3725173\ttotal: 4.19s\tremaining: 10.6s\n",
      "283:\tlearn: 0.3724742\ttotal: 4.2s\tremaining: 10.6s\n",
      "284:\tlearn: 0.3718140\ttotal: 4.21s\tremaining: 10.6s\n",
      "285:\tlearn: 0.3717921\ttotal: 4.23s\tremaining: 10.6s\n",
      "286:\tlearn: 0.3716674\ttotal: 4.24s\tremaining: 10.5s\n",
      "287:\tlearn: 0.3716143\ttotal: 4.25s\tremaining: 10.5s\n",
      "288:\tlearn: 0.3715446\ttotal: 4.26s\tremaining: 10.5s\n",
      "289:\tlearn: 0.3714935\ttotal: 4.28s\tremaining: 10.5s\n",
      "290:\tlearn: 0.3714376\ttotal: 4.3s\tremaining: 10.5s\n",
      "291:\tlearn: 0.3713797\ttotal: 4.31s\tremaining: 10.5s\n",
      "292:\tlearn: 0.3713212\ttotal: 4.33s\tremaining: 10.4s\n",
      "293:\tlearn: 0.3712526\ttotal: 4.34s\tremaining: 10.4s\n",
      "294:\tlearn: 0.3711465\ttotal: 4.35s\tremaining: 10.4s\n",
      "295:\tlearn: 0.3711059\ttotal: 4.37s\tremaining: 10.4s\n",
      "296:\tlearn: 0.3705533\ttotal: 4.38s\tremaining: 10.4s\n",
      "297:\tlearn: 0.3702614\ttotal: 4.39s\tremaining: 10.3s\n",
      "298:\tlearn: 0.3701954\ttotal: 4.41s\tremaining: 10.3s\n",
      "299:\tlearn: 0.3701531\ttotal: 4.42s\tremaining: 10.3s\n",
      "300:\tlearn: 0.3699462\ttotal: 4.43s\tremaining: 10.3s\n",
      "301:\tlearn: 0.3698818\ttotal: 4.44s\tremaining: 10.3s\n",
      "302:\tlearn: 0.3698319\ttotal: 4.46s\tremaining: 10.3s\n",
      "303:\tlearn: 0.3696389\ttotal: 4.47s\tremaining: 10.2s\n",
      "304:\tlearn: 0.3695668\ttotal: 4.48s\tremaining: 10.2s\n",
      "305:\tlearn: 0.3695125\ttotal: 4.5s\tremaining: 10.2s\n",
      "306:\tlearn: 0.3691995\ttotal: 4.52s\tremaining: 10.2s\n",
      "307:\tlearn: 0.3691361\ttotal: 4.53s\tremaining: 10.2s\n",
      "308:\tlearn: 0.3690860\ttotal: 4.55s\tremaining: 10.2s\n",
      "309:\tlearn: 0.3690264\ttotal: 4.56s\tremaining: 10.1s\n",
      "310:\tlearn: 0.3689804\ttotal: 4.57s\tremaining: 10.1s\n",
      "311:\tlearn: 0.3689284\ttotal: 4.58s\tremaining: 10.1s\n",
      "312:\tlearn: 0.3688514\ttotal: 4.6s\tremaining: 10.1s\n",
      "313:\tlearn: 0.3687906\ttotal: 4.61s\tremaining: 10.1s\n",
      "314:\tlearn: 0.3686234\ttotal: 4.63s\tremaining: 10.1s\n",
      "315:\tlearn: 0.3685925\ttotal: 4.64s\tremaining: 10s\n",
      "316:\tlearn: 0.3683353\ttotal: 4.65s\tremaining: 10s\n",
      "317:\tlearn: 0.3682690\ttotal: 4.66s\tremaining: 10s\n",
      "318:\tlearn: 0.3681598\ttotal: 4.68s\tremaining: 9.98s\n",
      "319:\tlearn: 0.3681236\ttotal: 4.69s\tremaining: 9.97s\n",
      "320:\tlearn: 0.3680459\ttotal: 4.71s\tremaining: 9.95s\n",
      "321:\tlearn: 0.3680004\ttotal: 4.73s\tremaining: 9.96s\n",
      "322:\tlearn: 0.3678470\ttotal: 4.74s\tremaining: 9.94s\n",
      "323:\tlearn: 0.3678158\ttotal: 4.75s\tremaining: 9.92s\n",
      "324:\tlearn: 0.3677799\ttotal: 4.77s\tremaining: 9.9s\n",
      "325:\tlearn: 0.3677371\ttotal: 4.78s\tremaining: 9.88s\n",
      "326:\tlearn: 0.3676926\ttotal: 4.79s\tremaining: 9.86s\n",
      "327:\tlearn: 0.3673745\ttotal: 4.81s\tremaining: 9.85s\n",
      "328:\tlearn: 0.3673312\ttotal: 4.82s\tremaining: 9.83s\n",
      "329:\tlearn: 0.3672240\ttotal: 4.83s\tremaining: 9.81s\n",
      "330:\tlearn: 0.3671642\ttotal: 4.84s\tremaining: 9.79s\n",
      "331:\tlearn: 0.3670805\ttotal: 4.86s\tremaining: 9.77s\n",
      "332:\tlearn: 0.3669783\ttotal: 4.87s\tremaining: 9.76s\n",
      "333:\tlearn: 0.3669039\ttotal: 4.88s\tremaining: 9.74s\n",
      "334:\tlearn: 0.3668557\ttotal: 4.89s\tremaining: 9.72s\n"
     ]
    },
    {
     "name": "stdout",
     "output_type": "stream",
     "text": [
      "335:\tlearn: 0.3668175\ttotal: 4.91s\tremaining: 9.71s\n",
      "336:\tlearn: 0.3667642\ttotal: 4.94s\tremaining: 9.72s\n",
      "337:\tlearn: 0.3667089\ttotal: 4.96s\tremaining: 9.71s\n",
      "338:\tlearn: 0.3666120\ttotal: 4.97s\tremaining: 9.69s\n",
      "339:\tlearn: 0.3662939\ttotal: 4.98s\tremaining: 9.67s\n",
      "340:\tlearn: 0.3662440\ttotal: 5s\tremaining: 9.65s\n",
      "341:\tlearn: 0.3661777\ttotal: 5.01s\tremaining: 9.64s\n",
      "342:\tlearn: 0.3661129\ttotal: 5.02s\tremaining: 9.62s\n",
      "343:\tlearn: 0.3659286\ttotal: 5.04s\tremaining: 9.6s\n",
      "344:\tlearn: 0.3658877\ttotal: 5.05s\tremaining: 9.58s\n",
      "345:\tlearn: 0.3658158\ttotal: 5.06s\tremaining: 9.57s\n",
      "346:\tlearn: 0.3657838\ttotal: 5.07s\tremaining: 9.55s\n",
      "347:\tlearn: 0.3657439\ttotal: 5.09s\tremaining: 9.53s\n",
      "348:\tlearn: 0.3656890\ttotal: 5.1s\tremaining: 9.51s\n",
      "349:\tlearn: 0.3656322\ttotal: 5.12s\tremaining: 9.5s\n",
      "350:\tlearn: 0.3655462\ttotal: 5.14s\tremaining: 9.5s\n",
      "351:\tlearn: 0.3655072\ttotal: 5.15s\tremaining: 9.49s\n",
      "352:\tlearn: 0.3651258\ttotal: 5.17s\tremaining: 9.47s\n",
      "353:\tlearn: 0.3650450\ttotal: 5.18s\tremaining: 9.45s\n",
      "354:\tlearn: 0.3649717\ttotal: 5.19s\tremaining: 9.44s\n",
      "355:\tlearn: 0.3649207\ttotal: 5.21s\tremaining: 9.42s\n",
      "356:\tlearn: 0.3648414\ttotal: 5.22s\tremaining: 9.4s\n",
      "357:\tlearn: 0.3648082\ttotal: 5.23s\tremaining: 9.38s\n",
      "358:\tlearn: 0.3647598\ttotal: 5.25s\tremaining: 9.37s\n",
      "359:\tlearn: 0.3647023\ttotal: 5.26s\tremaining: 9.35s\n",
      "360:\tlearn: 0.3646370\ttotal: 5.27s\tremaining: 9.33s\n",
      "361:\tlearn: 0.3645870\ttotal: 5.28s\tremaining: 9.31s\n",
      "362:\tlearn: 0.3645371\ttotal: 5.3s\tremaining: 9.29s\n",
      "363:\tlearn: 0.3644809\ttotal: 5.31s\tremaining: 9.28s\n",
      "364:\tlearn: 0.3643152\ttotal: 5.34s\tremaining: 9.28s\n",
      "365:\tlearn: 0.3642117\ttotal: 5.35s\tremaining: 9.27s\n",
      "366:\tlearn: 0.3641667\ttotal: 5.36s\tremaining: 9.25s\n",
      "367:\tlearn: 0.3639717\ttotal: 5.38s\tremaining: 9.23s\n",
      "368:\tlearn: 0.3639388\ttotal: 5.39s\tremaining: 9.21s\n",
      "369:\tlearn: 0.3638528\ttotal: 5.4s\tremaining: 9.2s\n",
      "370:\tlearn: 0.3638086\ttotal: 5.42s\tremaining: 9.18s\n",
      "371:\tlearn: 0.3637663\ttotal: 5.43s\tremaining: 9.16s\n",
      "372:\tlearn: 0.3635501\ttotal: 5.44s\tremaining: 9.15s\n",
      "373:\tlearn: 0.3634807\ttotal: 5.45s\tremaining: 9.13s\n",
      "374:\tlearn: 0.3634316\ttotal: 5.47s\tremaining: 9.11s\n",
      "375:\tlearn: 0.3633743\ttotal: 5.48s\tremaining: 9.09s\n",
      "376:\tlearn: 0.3633015\ttotal: 5.49s\tremaining: 9.08s\n",
      "377:\tlearn: 0.3632835\ttotal: 5.5s\tremaining: 9.06s\n",
      "378:\tlearn: 0.3632426\ttotal: 5.52s\tremaining: 9.04s\n",
      "379:\tlearn: 0.3628397\ttotal: 5.53s\tremaining: 9.03s\n",
      "380:\tlearn: 0.3625619\ttotal: 5.55s\tremaining: 9.03s\n",
      "381:\tlearn: 0.3624475\ttotal: 5.57s\tremaining: 9.01s\n",
      "382:\tlearn: 0.3623147\ttotal: 5.58s\tremaining: 8.99s\n",
      "383:\tlearn: 0.3622676\ttotal: 5.59s\tremaining: 8.98s\n",
      "384:\tlearn: 0.3622332\ttotal: 5.61s\tremaining: 8.96s\n",
      "385:\tlearn: 0.3621925\ttotal: 5.62s\tremaining: 8.94s\n",
      "386:\tlearn: 0.3621455\ttotal: 5.63s\tremaining: 8.93s\n",
      "387:\tlearn: 0.3620962\ttotal: 5.65s\tremaining: 8.91s\n",
      "388:\tlearn: 0.3620469\ttotal: 5.66s\tremaining: 8.89s\n",
      "389:\tlearn: 0.3618339\ttotal: 5.67s\tremaining: 8.88s\n",
      "390:\tlearn: 0.3618162\ttotal: 5.69s\tremaining: 8.86s\n",
      "391:\tlearn: 0.3615582\ttotal: 5.7s\tremaining: 8.84s\n",
      "392:\tlearn: 0.3615015\ttotal: 5.71s\tremaining: 8.82s\n",
      "393:\tlearn: 0.3614595\ttotal: 5.73s\tremaining: 8.81s\n",
      "394:\tlearn: 0.3614263\ttotal: 5.74s\tremaining: 8.79s\n",
      "395:\tlearn: 0.3613926\ttotal: 5.75s\tremaining: 8.77s\n",
      "396:\tlearn: 0.3612461\ttotal: 5.78s\tremaining: 8.77s\n",
      "397:\tlearn: 0.3612116\ttotal: 5.79s\tremaining: 8.76s\n",
      "398:\tlearn: 0.3611404\ttotal: 5.8s\tremaining: 8.74s\n",
      "399:\tlearn: 0.3611136\ttotal: 5.82s\tremaining: 8.72s\n",
      "400:\tlearn: 0.3610595\ttotal: 5.83s\tremaining: 8.71s\n",
      "401:\tlearn: 0.3610023\ttotal: 5.84s\tremaining: 8.69s\n",
      "402:\tlearn: 0.3609438\ttotal: 5.86s\tremaining: 8.68s\n",
      "403:\tlearn: 0.3608882\ttotal: 5.87s\tremaining: 8.66s\n",
      "404:\tlearn: 0.3608436\ttotal: 5.88s\tremaining: 8.64s\n",
      "405:\tlearn: 0.3608192\ttotal: 5.89s\tremaining: 8.62s\n",
      "406:\tlearn: 0.3607774\ttotal: 5.91s\tremaining: 8.61s\n",
      "407:\tlearn: 0.3607522\ttotal: 5.92s\tremaining: 8.59s\n",
      "408:\tlearn: 0.3601030\ttotal: 5.93s\tremaining: 8.57s\n",
      "409:\tlearn: 0.3600484\ttotal: 5.95s\tremaining: 8.56s\n",
      "410:\tlearn: 0.3600202\ttotal: 5.96s\tremaining: 8.54s\n",
      "411:\tlearn: 0.3598951\ttotal: 5.97s\tremaining: 8.52s\n",
      "412:\tlearn: 0.3598680\ttotal: 6s\tremaining: 8.53s\n",
      "413:\tlearn: 0.3598071\ttotal: 6.01s\tremaining: 8.51s\n",
      "414:\tlearn: 0.3596115\ttotal: 6.03s\tremaining: 8.5s\n",
      "415:\tlearn: 0.3595672\ttotal: 6.04s\tremaining: 8.48s\n",
      "416:\tlearn: 0.3594962\ttotal: 6.05s\tremaining: 8.46s\n",
      "417:\tlearn: 0.3594617\ttotal: 6.07s\tremaining: 8.45s\n",
      "418:\tlearn: 0.3589213\ttotal: 6.08s\tremaining: 8.43s\n",
      "419:\tlearn: 0.3588611\ttotal: 6.09s\tremaining: 8.42s\n",
      "420:\tlearn: 0.3587943\ttotal: 6.11s\tremaining: 8.4s\n",
      "421:\tlearn: 0.3587617\ttotal: 6.12s\tremaining: 8.38s\n",
      "422:\tlearn: 0.3587323\ttotal: 6.13s\tremaining: 8.37s\n",
      "423:\tlearn: 0.3587057\ttotal: 6.15s\tremaining: 8.35s\n",
      "424:\tlearn: 0.3586105\ttotal: 6.16s\tremaining: 8.34s\n",
      "425:\tlearn: 0.3585798\ttotal: 6.17s\tremaining: 8.32s\n",
      "426:\tlearn: 0.3582594\ttotal: 6.19s\tremaining: 8.3s\n",
      "427:\tlearn: 0.3582049\ttotal: 6.2s\tremaining: 8.29s\n",
      "428:\tlearn: 0.3580318\ttotal: 6.22s\tremaining: 8.28s\n",
      "429:\tlearn: 0.3580008\ttotal: 6.23s\tremaining: 8.26s\n",
      "430:\tlearn: 0.3579677\ttotal: 6.25s\tremaining: 8.25s\n",
      "431:\tlearn: 0.3576565\ttotal: 6.26s\tremaining: 8.23s\n",
      "432:\tlearn: 0.3575927\ttotal: 6.27s\tremaining: 8.21s\n",
      "433:\tlearn: 0.3575491\ttotal: 6.29s\tremaining: 8.2s\n",
      "434:\tlearn: 0.3575111\ttotal: 6.3s\tremaining: 8.18s\n",
      "435:\tlearn: 0.3574539\ttotal: 6.31s\tremaining: 8.16s\n",
      "436:\tlearn: 0.3574258\ttotal: 6.32s\tremaining: 8.15s\n",
      "437:\tlearn: 0.3573781\ttotal: 6.34s\tremaining: 8.13s\n",
      "438:\tlearn: 0.3573089\ttotal: 6.35s\tremaining: 8.11s\n",
      "439:\tlearn: 0.3572796\ttotal: 6.36s\tremaining: 8.1s\n",
      "440:\tlearn: 0.3572295\ttotal: 6.38s\tremaining: 8.08s\n",
      "441:\tlearn: 0.3571890\ttotal: 6.39s\tremaining: 8.06s\n",
      "442:\tlearn: 0.3571024\ttotal: 6.4s\tremaining: 8.05s\n",
      "443:\tlearn: 0.3570715\ttotal: 6.43s\tremaining: 8.05s\n",
      "444:\tlearn: 0.3570403\ttotal: 6.44s\tremaining: 8.03s\n",
      "445:\tlearn: 0.3570030\ttotal: 6.46s\tremaining: 8.02s\n",
      "446:\tlearn: 0.3569647\ttotal: 6.47s\tremaining: 8s\n",
      "447:\tlearn: 0.3569289\ttotal: 6.48s\tremaining: 7.99s\n",
      "448:\tlearn: 0.3568860\ttotal: 6.49s\tremaining: 7.97s\n",
      "449:\tlearn: 0.3568510\ttotal: 6.51s\tremaining: 7.95s\n",
      "450:\tlearn: 0.3568058\ttotal: 6.52s\tremaining: 7.94s\n",
      "451:\tlearn: 0.3566663\ttotal: 6.53s\tremaining: 7.92s\n",
      "452:\tlearn: 0.3562445\ttotal: 6.55s\tremaining: 7.91s\n",
      "453:\tlearn: 0.3561954\ttotal: 6.56s\tremaining: 7.89s\n",
      "454:\tlearn: 0.3561438\ttotal: 6.58s\tremaining: 7.88s\n",
      "455:\tlearn: 0.3561184\ttotal: 6.59s\tremaining: 7.86s\n",
      "456:\tlearn: 0.3560653\ttotal: 6.6s\tremaining: 7.84s\n",
      "457:\tlearn: 0.3560009\ttotal: 6.63s\tremaining: 7.84s\n",
      "458:\tlearn: 0.3559472\ttotal: 6.64s\tremaining: 7.83s\n",
      "459:\tlearn: 0.3559044\ttotal: 6.65s\tremaining: 7.81s\n",
      "460:\tlearn: 0.3558465\ttotal: 6.67s\tremaining: 7.79s\n",
      "461:\tlearn: 0.3557432\ttotal: 6.68s\tremaining: 7.78s\n",
      "462:\tlearn: 0.3556975\ttotal: 6.69s\tremaining: 7.76s\n",
      "463:\tlearn: 0.3556619\ttotal: 6.71s\tremaining: 7.75s\n",
      "464:\tlearn: 0.3556473\ttotal: 6.72s\tremaining: 7.73s\n",
      "465:\tlearn: 0.3556032\ttotal: 6.73s\tremaining: 7.71s\n",
      "466:\tlearn: 0.3555504\ttotal: 6.75s\tremaining: 7.7s\n",
      "467:\tlearn: 0.3554344\ttotal: 6.76s\tremaining: 7.68s\n",
      "468:\tlearn: 0.3554004\ttotal: 6.77s\tremaining: 7.67s\n",
      "469:\tlearn: 0.3552929\ttotal: 6.78s\tremaining: 7.65s\n",
      "470:\tlearn: 0.3552569\ttotal: 6.8s\tremaining: 7.63s\n",
      "471:\tlearn: 0.3552108\ttotal: 6.81s\tremaining: 7.62s\n",
      "472:\tlearn: 0.3550592\ttotal: 6.83s\tremaining: 7.61s\n",
      "473:\tlearn: 0.3549384\ttotal: 6.85s\tremaining: 7.6s\n",
      "474:\tlearn: 0.3548978\ttotal: 6.87s\tremaining: 7.59s\n",
      "475:\tlearn: 0.3548629\ttotal: 6.88s\tremaining: 7.58s\n",
      "476:\tlearn: 0.3548113\ttotal: 6.9s\tremaining: 7.56s\n",
      "477:\tlearn: 0.3547510\ttotal: 6.91s\tremaining: 7.55s\n",
      "478:\tlearn: 0.3547067\ttotal: 6.92s\tremaining: 7.53s\n",
      "479:\tlearn: 0.3546674\ttotal: 6.94s\tremaining: 7.51s\n",
      "480:\tlearn: 0.3546220\ttotal: 6.95s\tremaining: 7.5s\n",
      "481:\tlearn: 0.3543805\ttotal: 6.96s\tremaining: 7.48s\n",
      "482:\tlearn: 0.3541477\ttotal: 6.98s\tremaining: 7.47s\n",
      "483:\tlearn: 0.3540757\ttotal: 6.99s\tremaining: 7.45s\n",
      "484:\tlearn: 0.3540391\ttotal: 7s\tremaining: 7.44s\n",
      "485:\tlearn: 0.3539282\ttotal: 7.02s\tremaining: 7.42s\n",
      "486:\tlearn: 0.3538893\ttotal: 7.04s\tremaining: 7.41s\n",
      "487:\tlearn: 0.3538487\ttotal: 7.05s\tremaining: 7.4s\n",
      "488:\tlearn: 0.3538100\ttotal: 7.07s\tremaining: 7.39s\n",
      "489:\tlearn: 0.3536947\ttotal: 7.08s\tremaining: 7.37s\n",
      "490:\tlearn: 0.3536577\ttotal: 7.09s\tremaining: 7.35s\n",
      "491:\tlearn: 0.3535412\ttotal: 7.11s\tremaining: 7.34s\n",
      "492:\tlearn: 0.3534894\ttotal: 7.12s\tremaining: 7.32s\n",
      "493:\tlearn: 0.3533787\ttotal: 7.13s\tremaining: 7.31s\n",
      "494:\tlearn: 0.3533443\ttotal: 7.15s\tremaining: 7.29s\n",
      "495:\tlearn: 0.3533129\ttotal: 7.16s\tremaining: 7.28s\n",
      "496:\tlearn: 0.3532823\ttotal: 7.17s\tremaining: 7.26s\n",
      "497:\tlearn: 0.3532276\ttotal: 7.19s\tremaining: 7.24s\n",
      "498:\tlearn: 0.3532014\ttotal: 7.2s\tremaining: 7.23s\n",
      "499:\tlearn: 0.3531731\ttotal: 7.21s\tremaining: 7.21s\n",
      "500:\tlearn: 0.3531399\ttotal: 7.22s\tremaining: 7.2s\n"
     ]
    },
    {
     "name": "stdout",
     "output_type": "stream",
     "text": [
      "501:\tlearn: 0.3531029\ttotal: 7.24s\tremaining: 7.18s\n",
      "502:\tlearn: 0.3530593\ttotal: 7.26s\tremaining: 7.17s\n",
      "503:\tlearn: 0.3530231\ttotal: 7.27s\tremaining: 7.16s\n",
      "504:\tlearn: 0.3529888\ttotal: 7.29s\tremaining: 7.14s\n",
      "505:\tlearn: 0.3529426\ttotal: 7.3s\tremaining: 7.13s\n",
      "506:\tlearn: 0.3528851\ttotal: 7.31s\tremaining: 7.11s\n",
      "507:\tlearn: 0.3527846\ttotal: 7.33s\tremaining: 7.1s\n",
      "508:\tlearn: 0.3527056\ttotal: 7.34s\tremaining: 7.08s\n",
      "509:\tlearn: 0.3526574\ttotal: 7.35s\tremaining: 7.07s\n",
      "510:\tlearn: 0.3526225\ttotal: 7.37s\tremaining: 7.05s\n",
      "511:\tlearn: 0.3525861\ttotal: 7.38s\tremaining: 7.03s\n",
      "512:\tlearn: 0.3525407\ttotal: 7.39s\tremaining: 7.02s\n",
      "513:\tlearn: 0.3524962\ttotal: 7.41s\tremaining: 7s\n",
      "514:\tlearn: 0.3524491\ttotal: 7.42s\tremaining: 6.99s\n",
      "515:\tlearn: 0.3524117\ttotal: 7.43s\tremaining: 6.97s\n",
      "516:\tlearn: 0.3523405\ttotal: 7.46s\tremaining: 6.96s\n",
      "517:\tlearn: 0.3522830\ttotal: 7.47s\tremaining: 6.95s\n",
      "518:\tlearn: 0.3522388\ttotal: 7.48s\tremaining: 6.93s\n",
      "519:\tlearn: 0.3522050\ttotal: 7.5s\tremaining: 6.92s\n",
      "520:\tlearn: 0.3521623\ttotal: 7.51s\tremaining: 6.9s\n",
      "521:\tlearn: 0.3521025\ttotal: 7.52s\tremaining: 6.89s\n",
      "522:\tlearn: 0.3520644\ttotal: 7.54s\tremaining: 6.87s\n",
      "523:\tlearn: 0.3520388\ttotal: 7.55s\tremaining: 6.86s\n",
      "524:\tlearn: 0.3519776\ttotal: 7.56s\tremaining: 6.84s\n",
      "525:\tlearn: 0.3519068\ttotal: 7.58s\tremaining: 6.83s\n",
      "526:\tlearn: 0.3518655\ttotal: 7.59s\tremaining: 6.81s\n",
      "527:\tlearn: 0.3517982\ttotal: 7.6s\tremaining: 6.8s\n",
      "528:\tlearn: 0.3516487\ttotal: 7.62s\tremaining: 6.78s\n",
      "529:\tlearn: 0.3515749\ttotal: 7.63s\tremaining: 6.76s\n",
      "530:\tlearn: 0.3515412\ttotal: 7.64s\tremaining: 6.75s\n",
      "531:\tlearn: 0.3515002\ttotal: 7.66s\tremaining: 6.74s\n",
      "532:\tlearn: 0.3514618\ttotal: 7.68s\tremaining: 6.73s\n",
      "533:\tlearn: 0.3513832\ttotal: 7.69s\tremaining: 6.71s\n",
      "534:\tlearn: 0.3513318\ttotal: 7.71s\tremaining: 6.7s\n",
      "535:\tlearn: 0.3512926\ttotal: 7.72s\tremaining: 6.68s\n",
      "536:\tlearn: 0.3512338\ttotal: 7.73s\tremaining: 6.67s\n",
      "537:\tlearn: 0.3512091\ttotal: 7.74s\tremaining: 6.65s\n",
      "538:\tlearn: 0.3510316\ttotal: 7.76s\tremaining: 6.63s\n",
      "539:\tlearn: 0.3509823\ttotal: 7.77s\tremaining: 6.62s\n",
      "540:\tlearn: 0.3509343\ttotal: 7.78s\tremaining: 6.6s\n",
      "541:\tlearn: 0.3508927\ttotal: 7.8s\tremaining: 6.59s\n",
      "542:\tlearn: 0.3508469\ttotal: 7.81s\tremaining: 6.57s\n",
      "543:\tlearn: 0.3507987\ttotal: 7.82s\tremaining: 6.56s\n",
      "544:\tlearn: 0.3507766\ttotal: 7.83s\tremaining: 6.54s\n",
      "545:\tlearn: 0.3505359\ttotal: 7.85s\tremaining: 6.53s\n",
      "546:\tlearn: 0.3505095\ttotal: 7.87s\tremaining: 6.52s\n",
      "547:\tlearn: 0.3504880\ttotal: 7.88s\tremaining: 6.5s\n",
      "548:\tlearn: 0.3504499\ttotal: 7.9s\tremaining: 6.49s\n",
      "549:\tlearn: 0.3503740\ttotal: 7.91s\tremaining: 6.47s\n",
      "550:\tlearn: 0.3503454\ttotal: 7.92s\tremaining: 6.46s\n",
      "551:\tlearn: 0.3503064\ttotal: 7.94s\tremaining: 6.44s\n",
      "552:\tlearn: 0.3502688\ttotal: 7.95s\tremaining: 6.43s\n",
      "553:\tlearn: 0.3502457\ttotal: 7.96s\tremaining: 6.41s\n",
      "554:\tlearn: 0.3502108\ttotal: 7.98s\tremaining: 6.4s\n",
      "555:\tlearn: 0.3501796\ttotal: 7.99s\tremaining: 6.38s\n",
      "556:\tlearn: 0.3501530\ttotal: 8s\tremaining: 6.37s\n",
      "557:\tlearn: 0.3501331\ttotal: 8.02s\tremaining: 6.35s\n",
      "558:\tlearn: 0.3500966\ttotal: 8.03s\tremaining: 6.33s\n",
      "559:\tlearn: 0.3500610\ttotal: 8.04s\tremaining: 6.32s\n",
      "560:\tlearn: 0.3500128\ttotal: 8.05s\tremaining: 6.3s\n",
      "561:\tlearn: 0.3499862\ttotal: 8.07s\tremaining: 6.29s\n",
      "562:\tlearn: 0.3499589\ttotal: 8.1s\tremaining: 6.28s\n",
      "563:\tlearn: 0.3498955\ttotal: 8.11s\tremaining: 6.27s\n",
      "564:\tlearn: 0.3498613\ttotal: 8.12s\tremaining: 6.25s\n",
      "565:\tlearn: 0.3498094\ttotal: 8.14s\tremaining: 6.24s\n",
      "566:\tlearn: 0.3497519\ttotal: 8.15s\tremaining: 6.22s\n",
      "567:\tlearn: 0.3497254\ttotal: 8.16s\tremaining: 6.21s\n",
      "568:\tlearn: 0.3495336\ttotal: 8.18s\tremaining: 6.19s\n",
      "569:\tlearn: 0.3494796\ttotal: 8.19s\tremaining: 6.18s\n",
      "570:\tlearn: 0.3494452\ttotal: 8.2s\tremaining: 6.16s\n",
      "571:\tlearn: 0.3493960\ttotal: 8.22s\tremaining: 6.15s\n",
      "572:\tlearn: 0.3493567\ttotal: 8.23s\tremaining: 6.13s\n",
      "573:\tlearn: 0.3493319\ttotal: 8.24s\tremaining: 6.12s\n",
      "574:\tlearn: 0.3492946\ttotal: 8.26s\tremaining: 6.1s\n",
      "575:\tlearn: 0.3492658\ttotal: 8.27s\tremaining: 6.09s\n",
      "576:\tlearn: 0.3490145\ttotal: 8.29s\tremaining: 6.08s\n",
      "577:\tlearn: 0.3489927\ttotal: 8.31s\tremaining: 6.07s\n",
      "578:\tlearn: 0.3489649\ttotal: 8.32s\tremaining: 6.05s\n",
      "579:\tlearn: 0.3489283\ttotal: 8.33s\tremaining: 6.04s\n",
      "580:\tlearn: 0.3488920\ttotal: 8.35s\tremaining: 6.02s\n",
      "581:\tlearn: 0.3488605\ttotal: 8.36s\tremaining: 6s\n",
      "582:\tlearn: 0.3488053\ttotal: 8.37s\tremaining: 5.99s\n",
      "583:\tlearn: 0.3487711\ttotal: 8.39s\tremaining: 5.97s\n",
      "584:\tlearn: 0.3487415\ttotal: 8.4s\tremaining: 5.96s\n",
      "585:\tlearn: 0.3486919\ttotal: 8.41s\tremaining: 5.94s\n",
      "586:\tlearn: 0.3485769\ttotal: 8.43s\tremaining: 5.93s\n",
      "587:\tlearn: 0.3485510\ttotal: 8.44s\tremaining: 5.91s\n",
      "588:\tlearn: 0.3485267\ttotal: 8.45s\tremaining: 5.9s\n",
      "589:\tlearn: 0.3485007\ttotal: 8.46s\tremaining: 5.88s\n",
      "590:\tlearn: 0.3484645\ttotal: 8.48s\tremaining: 5.87s\n",
      "591:\tlearn: 0.3484116\ttotal: 8.49s\tremaining: 5.85s\n",
      "592:\tlearn: 0.3483962\ttotal: 8.52s\tremaining: 5.85s\n",
      "593:\tlearn: 0.3483660\ttotal: 8.54s\tremaining: 5.83s\n",
      "594:\tlearn: 0.3483405\ttotal: 8.56s\tremaining: 5.83s\n",
      "595:\tlearn: 0.3483154\ttotal: 8.57s\tremaining: 5.81s\n",
      "596:\tlearn: 0.3482820\ttotal: 8.59s\tremaining: 5.8s\n",
      "597:\tlearn: 0.3482395\ttotal: 8.6s\tremaining: 5.78s\n",
      "598:\tlearn: 0.3481880\ttotal: 8.62s\tremaining: 5.77s\n",
      "599:\tlearn: 0.3481450\ttotal: 8.63s\tremaining: 5.75s\n",
      "600:\tlearn: 0.3481080\ttotal: 8.64s\tremaining: 5.74s\n",
      "601:\tlearn: 0.3480829\ttotal: 8.66s\tremaining: 5.72s\n",
      "602:\tlearn: 0.3480543\ttotal: 8.67s\tremaining: 5.71s\n",
      "603:\tlearn: 0.3479022\ttotal: 8.68s\tremaining: 5.69s\n",
      "604:\tlearn: 0.3478333\ttotal: 8.7s\tremaining: 5.68s\n",
      "605:\tlearn: 0.3477679\ttotal: 8.72s\tremaining: 5.67s\n",
      "606:\tlearn: 0.3477362\ttotal: 8.74s\tremaining: 5.66s\n",
      "607:\tlearn: 0.3477046\ttotal: 8.75s\tremaining: 5.64s\n",
      "608:\tlearn: 0.3476666\ttotal: 8.77s\tremaining: 5.63s\n",
      "609:\tlearn: 0.3476317\ttotal: 8.78s\tremaining: 5.61s\n",
      "610:\tlearn: 0.3476059\ttotal: 8.79s\tremaining: 5.6s\n",
      "611:\tlearn: 0.3475824\ttotal: 8.8s\tremaining: 5.58s\n",
      "612:\tlearn: 0.3475515\ttotal: 8.82s\tremaining: 5.57s\n",
      "613:\tlearn: 0.3475021\ttotal: 8.83s\tremaining: 5.55s\n",
      "614:\tlearn: 0.3474708\ttotal: 8.84s\tremaining: 5.54s\n",
      "615:\tlearn: 0.3474306\ttotal: 8.86s\tremaining: 5.52s\n",
      "616:\tlearn: 0.3473931\ttotal: 8.87s\tremaining: 5.51s\n",
      "617:\tlearn: 0.3473523\ttotal: 8.88s\tremaining: 5.49s\n",
      "618:\tlearn: 0.3473234\ttotal: 8.89s\tremaining: 5.47s\n",
      "619:\tlearn: 0.3472848\ttotal: 8.91s\tremaining: 5.46s\n",
      "620:\tlearn: 0.3472178\ttotal: 8.92s\tremaining: 5.45s\n",
      "621:\tlearn: 0.3471743\ttotal: 8.95s\tremaining: 5.44s\n",
      "622:\tlearn: 0.3471304\ttotal: 8.96s\tremaining: 5.42s\n",
      "623:\tlearn: 0.3471141\ttotal: 8.97s\tremaining: 5.41s\n",
      "624:\tlearn: 0.3470730\ttotal: 8.98s\tremaining: 5.39s\n",
      "625:\tlearn: 0.3469056\ttotal: 9s\tremaining: 5.38s\n",
      "626:\tlearn: 0.3467317\ttotal: 9.01s\tremaining: 5.36s\n",
      "627:\tlearn: 0.3466882\ttotal: 9.03s\tremaining: 5.35s\n",
      "628:\tlearn: 0.3466226\ttotal: 9.04s\tremaining: 5.33s\n",
      "629:\tlearn: 0.3465859\ttotal: 9.05s\tremaining: 5.32s\n",
      "630:\tlearn: 0.3465540\ttotal: 9.06s\tremaining: 5.3s\n",
      "631:\tlearn: 0.3465134\ttotal: 9.08s\tremaining: 5.29s\n",
      "632:\tlearn: 0.3464802\ttotal: 9.09s\tremaining: 5.27s\n",
      "633:\tlearn: 0.3464607\ttotal: 9.11s\tremaining: 5.26s\n",
      "634:\tlearn: 0.3464368\ttotal: 9.12s\tremaining: 5.24s\n",
      "635:\tlearn: 0.3463985\ttotal: 9.13s\tremaining: 5.23s\n",
      "636:\tlearn: 0.3463554\ttotal: 9.16s\tremaining: 5.22s\n",
      "637:\tlearn: 0.3459908\ttotal: 9.17s\tremaining: 5.2s\n",
      "638:\tlearn: 0.3459518\ttotal: 9.18s\tremaining: 5.19s\n",
      "639:\tlearn: 0.3459043\ttotal: 9.2s\tremaining: 5.17s\n",
      "640:\tlearn: 0.3458724\ttotal: 9.21s\tremaining: 5.16s\n",
      "641:\tlearn: 0.3458565\ttotal: 9.22s\tremaining: 5.14s\n",
      "642:\tlearn: 0.3458023\ttotal: 9.24s\tremaining: 5.13s\n",
      "643:\tlearn: 0.3457738\ttotal: 9.25s\tremaining: 5.11s\n",
      "644:\tlearn: 0.3457111\ttotal: 9.26s\tremaining: 5.1s\n",
      "645:\tlearn: 0.3456307\ttotal: 9.28s\tremaining: 5.08s\n",
      "646:\tlearn: 0.3455955\ttotal: 9.29s\tremaining: 5.07s\n",
      "647:\tlearn: 0.3455610\ttotal: 9.3s\tremaining: 5.05s\n",
      "648:\tlearn: 0.3455336\ttotal: 9.31s\tremaining: 5.04s\n",
      "649:\tlearn: 0.3455061\ttotal: 9.33s\tremaining: 5.02s\n",
      "650:\tlearn: 0.3454817\ttotal: 9.35s\tremaining: 5.01s\n",
      "651:\tlearn: 0.3454622\ttotal: 9.37s\tremaining: 5s\n",
      "652:\tlearn: 0.3454280\ttotal: 9.39s\tremaining: 4.99s\n",
      "653:\tlearn: 0.3453875\ttotal: 9.4s\tremaining: 4.97s\n",
      "654:\tlearn: 0.3453671\ttotal: 9.41s\tremaining: 4.96s\n",
      "655:\tlearn: 0.3453406\ttotal: 9.43s\tremaining: 4.94s\n",
      "656:\tlearn: 0.3453227\ttotal: 9.44s\tremaining: 4.93s\n",
      "657:\tlearn: 0.3453058\ttotal: 9.45s\tremaining: 4.91s\n",
      "658:\tlearn: 0.3452680\ttotal: 9.46s\tremaining: 4.9s\n",
      "659:\tlearn: 0.3452336\ttotal: 9.48s\tremaining: 4.88s\n",
      "660:\tlearn: 0.3452078\ttotal: 9.49s\tremaining: 4.87s\n",
      "661:\tlearn: 0.3451637\ttotal: 9.5s\tremaining: 4.85s\n",
      "662:\tlearn: 0.3451282\ttotal: 9.52s\tremaining: 4.84s\n",
      "663:\tlearn: 0.3450916\ttotal: 9.53s\tremaining: 4.82s\n"
     ]
    },
    {
     "name": "stdout",
     "output_type": "stream",
     "text": [
      "664:\tlearn: 0.3450651\ttotal: 9.54s\tremaining: 4.81s\n",
      "665:\tlearn: 0.3450357\ttotal: 9.57s\tremaining: 4.8s\n",
      "666:\tlearn: 0.3450106\ttotal: 9.59s\tremaining: 4.79s\n",
      "667:\tlearn: 0.3449674\ttotal: 9.61s\tremaining: 4.77s\n",
      "668:\tlearn: 0.3449237\ttotal: 9.62s\tremaining: 4.76s\n",
      "669:\tlearn: 0.3448796\ttotal: 9.63s\tremaining: 4.74s\n",
      "670:\tlearn: 0.3448560\ttotal: 9.64s\tremaining: 4.73s\n",
      "671:\tlearn: 0.3448141\ttotal: 9.66s\tremaining: 4.71s\n",
      "672:\tlearn: 0.3447777\ttotal: 9.67s\tremaining: 4.7s\n",
      "673:\tlearn: 0.3447507\ttotal: 9.69s\tremaining: 4.68s\n",
      "674:\tlearn: 0.3447196\ttotal: 9.7s\tremaining: 4.67s\n",
      "675:\tlearn: 0.3446834\ttotal: 9.71s\tremaining: 4.65s\n",
      "676:\tlearn: 0.3446651\ttotal: 9.72s\tremaining: 4.64s\n",
      "677:\tlearn: 0.3446455\ttotal: 9.74s\tremaining: 4.62s\n",
      "678:\tlearn: 0.3446074\ttotal: 9.76s\tremaining: 4.62s\n",
      "679:\tlearn: 0.3445756\ttotal: 9.78s\tremaining: 4.6s\n",
      "680:\tlearn: 0.3445315\ttotal: 9.8s\tremaining: 4.59s\n",
      "681:\tlearn: 0.3444948\ttotal: 9.82s\tremaining: 4.58s\n",
      "682:\tlearn: 0.3444773\ttotal: 9.84s\tremaining: 4.57s\n",
      "683:\tlearn: 0.3444102\ttotal: 9.86s\tremaining: 4.56s\n",
      "684:\tlearn: 0.3443960\ttotal: 9.88s\tremaining: 4.54s\n",
      "685:\tlearn: 0.3443279\ttotal: 9.89s\tremaining: 4.53s\n",
      "686:\tlearn: 0.3442963\ttotal: 9.91s\tremaining: 4.51s\n",
      "687:\tlearn: 0.3442546\ttotal: 9.92s\tremaining: 4.5s\n",
      "688:\tlearn: 0.3442215\ttotal: 9.93s\tremaining: 4.48s\n",
      "689:\tlearn: 0.3441918\ttotal: 9.95s\tremaining: 4.47s\n",
      "690:\tlearn: 0.3441714\ttotal: 9.96s\tremaining: 4.46s\n",
      "691:\tlearn: 0.3441255\ttotal: 9.99s\tremaining: 4.45s\n",
      "692:\tlearn: 0.3440937\ttotal: 10s\tremaining: 4.43s\n",
      "693:\tlearn: 0.3440411\ttotal: 10s\tremaining: 4.42s\n",
      "694:\tlearn: 0.3440115\ttotal: 10s\tremaining: 4.4s\n",
      "695:\tlearn: 0.3439477\ttotal: 10s\tremaining: 4.39s\n",
      "696:\tlearn: 0.3439136\ttotal: 10.1s\tremaining: 4.37s\n",
      "697:\tlearn: 0.3438707\ttotal: 10.1s\tremaining: 4.36s\n",
      "698:\tlearn: 0.3438256\ttotal: 10.1s\tremaining: 4.34s\n",
      "699:\tlearn: 0.3437901\ttotal: 10.1s\tremaining: 4.33s\n",
      "700:\tlearn: 0.3437549\ttotal: 10.1s\tremaining: 4.31s\n",
      "701:\tlearn: 0.3437202\ttotal: 10.1s\tremaining: 4.3s\n",
      "702:\tlearn: 0.3436891\ttotal: 10.1s\tremaining: 4.28s\n",
      "703:\tlearn: 0.3436209\ttotal: 10.1s\tremaining: 4.27s\n",
      "704:\tlearn: 0.3435687\ttotal: 10.2s\tremaining: 4.25s\n",
      "705:\tlearn: 0.3435177\ttotal: 10.2s\tremaining: 4.24s\n",
      "706:\tlearn: 0.3434753\ttotal: 10.2s\tremaining: 4.23s\n",
      "707:\tlearn: 0.3434485\ttotal: 10.2s\tremaining: 4.22s\n",
      "708:\tlearn: 0.3434257\ttotal: 10.3s\tremaining: 4.21s\n",
      "709:\tlearn: 0.3433953\ttotal: 10.3s\tremaining: 4.19s\n",
      "710:\tlearn: 0.3433712\ttotal: 10.3s\tremaining: 4.18s\n",
      "711:\tlearn: 0.3433487\ttotal: 10.3s\tremaining: 4.17s\n",
      "712:\tlearn: 0.3433111\ttotal: 10.3s\tremaining: 4.15s\n",
      "713:\tlearn: 0.3432964\ttotal: 10.3s\tremaining: 4.14s\n",
      "714:\tlearn: 0.3432801\ttotal: 10.3s\tremaining: 4.12s\n",
      "715:\tlearn: 0.3432483\ttotal: 10.4s\tremaining: 4.11s\n",
      "716:\tlearn: 0.3431966\ttotal: 10.4s\tremaining: 4.09s\n",
      "717:\tlearn: 0.3431645\ttotal: 10.4s\tremaining: 4.08s\n",
      "718:\tlearn: 0.3431226\ttotal: 10.4s\tremaining: 4.07s\n",
      "719:\tlearn: 0.3430659\ttotal: 10.4s\tremaining: 4.05s\n",
      "720:\tlearn: 0.3430461\ttotal: 10.4s\tremaining: 4.04s\n",
      "721:\tlearn: 0.3430141\ttotal: 10.4s\tremaining: 4.02s\n",
      "722:\tlearn: 0.3428916\ttotal: 10.5s\tremaining: 4.01s\n",
      "723:\tlearn: 0.3428554\ttotal: 10.5s\tremaining: 3.99s\n",
      "724:\tlearn: 0.3428287\ttotal: 10.5s\tremaining: 3.98s\n",
      "725:\tlearn: 0.3427961\ttotal: 10.5s\tremaining: 3.96s\n",
      "726:\tlearn: 0.3427273\ttotal: 10.5s\tremaining: 3.95s\n",
      "727:\tlearn: 0.3426890\ttotal: 10.5s\tremaining: 3.93s\n",
      "728:\tlearn: 0.3426428\ttotal: 10.5s\tremaining: 3.92s\n",
      "729:\tlearn: 0.3426094\ttotal: 10.5s\tremaining: 3.9s\n",
      "730:\tlearn: 0.3425915\ttotal: 10.6s\tremaining: 3.89s\n",
      "731:\tlearn: 0.3425559\ttotal: 10.6s\tremaining: 3.87s\n",
      "732:\tlearn: 0.3425194\ttotal: 10.6s\tremaining: 3.86s\n",
      "733:\tlearn: 0.3424851\ttotal: 10.6s\tremaining: 3.85s\n",
      "734:\tlearn: 0.3424590\ttotal: 10.6s\tremaining: 3.83s\n",
      "735:\tlearn: 0.3424387\ttotal: 10.6s\tremaining: 3.81s\n",
      "736:\tlearn: 0.3424089\ttotal: 10.7s\tremaining: 3.8s\n",
      "737:\tlearn: 0.3423731\ttotal: 10.7s\tremaining: 3.79s\n",
      "738:\tlearn: 0.3423452\ttotal: 10.7s\tremaining: 3.77s\n",
      "739:\tlearn: 0.3423106\ttotal: 10.7s\tremaining: 3.76s\n",
      "740:\tlearn: 0.3422788\ttotal: 10.7s\tremaining: 3.74s\n",
      "741:\tlearn: 0.3422542\ttotal: 10.7s\tremaining: 3.73s\n",
      "742:\tlearn: 0.3422260\ttotal: 10.7s\tremaining: 3.71s\n",
      "743:\tlearn: 0.3422058\ttotal: 10.7s\tremaining: 3.7s\n",
      "744:\tlearn: 0.3421578\ttotal: 10.8s\tremaining: 3.68s\n",
      "745:\tlearn: 0.3420612\ttotal: 10.8s\tremaining: 3.67s\n",
      "746:\tlearn: 0.3420348\ttotal: 10.8s\tremaining: 3.65s\n",
      "747:\tlearn: 0.3420066\ttotal: 10.8s\tremaining: 3.64s\n",
      "748:\tlearn: 0.3419764\ttotal: 10.8s\tremaining: 3.63s\n",
      "749:\tlearn: 0.3419507\ttotal: 10.8s\tremaining: 3.61s\n",
      "750:\tlearn: 0.3419255\ttotal: 10.9s\tremaining: 3.6s\n",
      "751:\tlearn: 0.3417883\ttotal: 10.9s\tremaining: 3.58s\n",
      "752:\tlearn: 0.3417639\ttotal: 10.9s\tremaining: 3.57s\n",
      "753:\tlearn: 0.3417357\ttotal: 10.9s\tremaining: 3.55s\n",
      "754:\tlearn: 0.3417044\ttotal: 10.9s\tremaining: 3.54s\n",
      "755:\tlearn: 0.3416637\ttotal: 10.9s\tremaining: 3.52s\n",
      "756:\tlearn: 0.3416457\ttotal: 10.9s\tremaining: 3.51s\n",
      "757:\tlearn: 0.3416149\ttotal: 10.9s\tremaining: 3.49s\n",
      "758:\tlearn: 0.3415900\ttotal: 11s\tremaining: 3.48s\n",
      "759:\tlearn: 0.3415385\ttotal: 11s\tremaining: 3.46s\n",
      "760:\tlearn: 0.3415012\ttotal: 11s\tremaining: 3.45s\n",
      "761:\tlearn: 0.3413639\ttotal: 11s\tremaining: 3.44s\n",
      "762:\tlearn: 0.3413201\ttotal: 11s\tremaining: 3.42s\n",
      "763:\tlearn: 0.3412701\ttotal: 11s\tremaining: 3.41s\n",
      "764:\tlearn: 0.3412564\ttotal: 11.1s\tremaining: 3.4s\n",
      "765:\tlearn: 0.3412346\ttotal: 11.1s\tremaining: 3.38s\n",
      "766:\tlearn: 0.3412125\ttotal: 11.1s\tremaining: 3.37s\n",
      "767:\tlearn: 0.3411316\ttotal: 11.1s\tremaining: 3.35s\n",
      "768:\tlearn: 0.3410165\ttotal: 11.1s\tremaining: 3.34s\n",
      "769:\tlearn: 0.3409719\ttotal: 11.1s\tremaining: 3.32s\n",
      "770:\tlearn: 0.3409379\ttotal: 11.1s\tremaining: 3.31s\n",
      "771:\tlearn: 0.3409011\ttotal: 11.1s\tremaining: 3.29s\n",
      "772:\tlearn: 0.3408785\ttotal: 11.2s\tremaining: 3.28s\n",
      "773:\tlearn: 0.3408529\ttotal: 11.2s\tremaining: 3.26s\n",
      "774:\tlearn: 0.3408232\ttotal: 11.2s\tremaining: 3.25s\n",
      "775:\tlearn: 0.3406845\ttotal: 11.2s\tremaining: 3.24s\n",
      "776:\tlearn: 0.3406474\ttotal: 11.2s\tremaining: 3.22s\n",
      "777:\tlearn: 0.3406316\ttotal: 11.2s\tremaining: 3.21s\n",
      "778:\tlearn: 0.3406058\ttotal: 11.3s\tremaining: 3.19s\n",
      "779:\tlearn: 0.3405777\ttotal: 11.3s\tremaining: 3.18s\n",
      "780:\tlearn: 0.3405230\ttotal: 11.3s\tremaining: 3.16s\n",
      "781:\tlearn: 0.3404958\ttotal: 11.3s\tremaining: 3.15s\n",
      "782:\tlearn: 0.3404631\ttotal: 11.3s\tremaining: 3.13s\n",
      "783:\tlearn: 0.3404384\ttotal: 11.3s\tremaining: 3.12s\n",
      "784:\tlearn: 0.3404104\ttotal: 11.3s\tremaining: 3.1s\n",
      "785:\tlearn: 0.3403702\ttotal: 11.4s\tremaining: 3.09s\n",
      "786:\tlearn: 0.3403371\ttotal: 11.4s\tremaining: 3.08s\n",
      "787:\tlearn: 0.3403030\ttotal: 11.4s\tremaining: 3.06s\n",
      "788:\tlearn: 0.3402785\ttotal: 11.4s\tremaining: 3.05s\n",
      "789:\tlearn: 0.3402497\ttotal: 11.4s\tremaining: 3.03s\n",
      "790:\tlearn: 0.3402201\ttotal: 11.4s\tremaining: 3.02s\n",
      "791:\tlearn: 0.3401012\ttotal: 11.4s\tremaining: 3.01s\n",
      "792:\tlearn: 0.3400643\ttotal: 11.5s\tremaining: 2.99s\n",
      "793:\tlearn: 0.3400398\ttotal: 11.5s\tremaining: 2.98s\n",
      "794:\tlearn: 0.3399847\ttotal: 11.5s\tremaining: 2.96s\n",
      "795:\tlearn: 0.3399589\ttotal: 11.5s\tremaining: 2.95s\n",
      "796:\tlearn: 0.3399424\ttotal: 11.5s\tremaining: 2.94s\n",
      "797:\tlearn: 0.3399165\ttotal: 11.5s\tremaining: 2.92s\n",
      "798:\tlearn: 0.3398648\ttotal: 11.6s\tremaining: 2.9s\n",
      "799:\tlearn: 0.3398405\ttotal: 11.6s\tremaining: 2.89s\n",
      "800:\tlearn: 0.3398166\ttotal: 11.6s\tremaining: 2.88s\n",
      "801:\tlearn: 0.3397879\ttotal: 11.6s\tremaining: 2.86s\n",
      "802:\tlearn: 0.3397655\ttotal: 11.6s\tremaining: 2.85s\n",
      "803:\tlearn: 0.3397438\ttotal: 11.6s\tremaining: 2.83s\n",
      "804:\tlearn: 0.3396127\ttotal: 11.6s\tremaining: 2.82s\n",
      "805:\tlearn: 0.3395870\ttotal: 11.7s\tremaining: 2.81s\n",
      "806:\tlearn: 0.3395524\ttotal: 11.7s\tremaining: 2.79s\n",
      "807:\tlearn: 0.3395214\ttotal: 11.7s\tremaining: 2.78s\n",
      "808:\tlearn: 0.3394990\ttotal: 11.7s\tremaining: 2.76s\n",
      "809:\tlearn: 0.3394532\ttotal: 11.7s\tremaining: 2.75s\n",
      "810:\tlearn: 0.3394146\ttotal: 11.7s\tremaining: 2.73s\n",
      "811:\tlearn: 0.3393891\ttotal: 11.7s\tremaining: 2.72s\n",
      "812:\tlearn: 0.3393566\ttotal: 11.8s\tremaining: 2.7s\n",
      "813:\tlearn: 0.3393390\ttotal: 11.8s\tremaining: 2.69s\n",
      "814:\tlearn: 0.3393015\ttotal: 11.8s\tremaining: 2.67s\n",
      "815:\tlearn: 0.3392821\ttotal: 11.8s\tremaining: 2.66s\n",
      "816:\tlearn: 0.3392553\ttotal: 11.8s\tremaining: 2.65s\n",
      "817:\tlearn: 0.3392153\ttotal: 11.8s\tremaining: 2.63s\n",
      "818:\tlearn: 0.3391906\ttotal: 11.8s\tremaining: 2.62s\n",
      "819:\tlearn: 0.3391787\ttotal: 11.9s\tremaining: 2.6s\n",
      "820:\tlearn: 0.3391551\ttotal: 11.9s\tremaining: 2.59s\n",
      "821:\tlearn: 0.3391273\ttotal: 11.9s\tremaining: 2.57s\n",
      "822:\tlearn: 0.3390896\ttotal: 11.9s\tremaining: 2.56s\n",
      "823:\tlearn: 0.3389260\ttotal: 11.9s\tremaining: 2.54s\n",
      "824:\tlearn: 0.3388825\ttotal: 11.9s\tremaining: 2.53s\n",
      "825:\tlearn: 0.3388650\ttotal: 11.9s\tremaining: 2.52s\n",
      "826:\tlearn: 0.3388357\ttotal: 12s\tremaining: 2.5s\n",
      "827:\tlearn: 0.3388035\ttotal: 12s\tremaining: 2.48s\n",
      "828:\tlearn: 0.3387822\ttotal: 12s\tremaining: 2.47s\n",
      "829:\tlearn: 0.3387546\ttotal: 12s\tremaining: 2.46s\n",
      "830:\tlearn: 0.3387357\ttotal: 12s\tremaining: 2.44s\n",
      "831:\tlearn: 0.3387054\ttotal: 12s\tremaining: 2.43s\n",
      "832:\tlearn: 0.3386896\ttotal: 12s\tremaining: 2.41s\n",
      "833:\tlearn: 0.3386591\ttotal: 12s\tremaining: 2.4s\n"
     ]
    },
    {
     "name": "stdout",
     "output_type": "stream",
     "text": [
      "834:\tlearn: 0.3386103\ttotal: 12.1s\tremaining: 2.38s\n",
      "835:\tlearn: 0.3385776\ttotal: 12.1s\tremaining: 2.37s\n",
      "836:\tlearn: 0.3385404\ttotal: 12.1s\tremaining: 2.36s\n",
      "837:\tlearn: 0.3385068\ttotal: 12.1s\tremaining: 2.34s\n",
      "838:\tlearn: 0.3384925\ttotal: 12.1s\tremaining: 2.33s\n",
      "839:\tlearn: 0.3384403\ttotal: 12.1s\tremaining: 2.31s\n",
      "840:\tlearn: 0.3384117\ttotal: 12.2s\tremaining: 2.3s\n",
      "841:\tlearn: 0.3383743\ttotal: 12.2s\tremaining: 2.28s\n",
      "842:\tlearn: 0.3383559\ttotal: 12.2s\tremaining: 2.27s\n",
      "843:\tlearn: 0.3383322\ttotal: 12.2s\tremaining: 2.25s\n",
      "844:\tlearn: 0.3383064\ttotal: 12.2s\tremaining: 2.24s\n",
      "845:\tlearn: 0.3382804\ttotal: 12.2s\tremaining: 2.23s\n",
      "846:\tlearn: 0.3382462\ttotal: 12.2s\tremaining: 2.21s\n",
      "847:\tlearn: 0.3382172\ttotal: 12.3s\tremaining: 2.19s\n",
      "848:\tlearn: 0.3381939\ttotal: 12.3s\tremaining: 2.18s\n",
      "849:\tlearn: 0.3381684\ttotal: 12.3s\tremaining: 2.17s\n",
      "850:\tlearn: 0.3381301\ttotal: 12.3s\tremaining: 2.15s\n",
      "851:\tlearn: 0.3380718\ttotal: 12.3s\tremaining: 2.14s\n",
      "852:\tlearn: 0.3380380\ttotal: 12.3s\tremaining: 2.13s\n",
      "853:\tlearn: 0.3380159\ttotal: 12.3s\tremaining: 2.11s\n",
      "854:\tlearn: 0.3380012\ttotal: 12.4s\tremaining: 2.1s\n",
      "855:\tlearn: 0.3379731\ttotal: 12.4s\tremaining: 2.08s\n",
      "856:\tlearn: 0.3379486\ttotal: 12.4s\tremaining: 2.07s\n",
      "857:\tlearn: 0.3379171\ttotal: 12.4s\tremaining: 2.05s\n",
      "858:\tlearn: 0.3378966\ttotal: 12.4s\tremaining: 2.04s\n",
      "859:\tlearn: 0.3378382\ttotal: 12.4s\tremaining: 2.02s\n",
      "860:\tlearn: 0.3378121\ttotal: 12.4s\tremaining: 2.01s\n",
      "861:\tlearn: 0.3377367\ttotal: 12.5s\tremaining: 1.99s\n",
      "862:\tlearn: 0.3377080\ttotal: 12.5s\tremaining: 1.98s\n",
      "863:\tlearn: 0.3376699\ttotal: 12.5s\tremaining: 1.97s\n",
      "864:\tlearn: 0.3376182\ttotal: 12.5s\tremaining: 1.95s\n",
      "865:\tlearn: 0.3375916\ttotal: 12.5s\tremaining: 1.94s\n",
      "866:\tlearn: 0.3375673\ttotal: 12.5s\tremaining: 1.92s\n",
      "867:\tlearn: 0.3375113\ttotal: 12.5s\tremaining: 1.91s\n",
      "868:\tlearn: 0.3374871\ttotal: 12.6s\tremaining: 1.89s\n",
      "869:\tlearn: 0.3374619\ttotal: 12.6s\tremaining: 1.88s\n",
      "870:\tlearn: 0.3374257\ttotal: 12.6s\tremaining: 1.86s\n",
      "871:\tlearn: 0.3373911\ttotal: 12.6s\tremaining: 1.85s\n",
      "872:\tlearn: 0.3373630\ttotal: 12.6s\tremaining: 1.83s\n",
      "873:\tlearn: 0.3373032\ttotal: 12.6s\tremaining: 1.82s\n",
      "874:\tlearn: 0.3372520\ttotal: 12.6s\tremaining: 1.8s\n",
      "875:\tlearn: 0.3372060\ttotal: 12.7s\tremaining: 1.79s\n",
      "876:\tlearn: 0.3371840\ttotal: 12.7s\tremaining: 1.78s\n",
      "877:\tlearn: 0.3371545\ttotal: 12.7s\tremaining: 1.76s\n",
      "878:\tlearn: 0.3371351\ttotal: 12.7s\tremaining: 1.75s\n",
      "879:\tlearn: 0.3371149\ttotal: 12.7s\tremaining: 1.73s\n",
      "880:\tlearn: 0.3370832\ttotal: 12.7s\tremaining: 1.72s\n",
      "881:\tlearn: 0.3370543\ttotal: 12.7s\tremaining: 1.7s\n",
      "882:\tlearn: 0.3368698\ttotal: 12.8s\tremaining: 1.69s\n",
      "883:\tlearn: 0.3368391\ttotal: 12.8s\tremaining: 1.67s\n",
      "884:\tlearn: 0.3368102\ttotal: 12.8s\tremaining: 1.66s\n",
      "885:\tlearn: 0.3367712\ttotal: 12.8s\tremaining: 1.65s\n",
      "886:\tlearn: 0.3367121\ttotal: 12.8s\tremaining: 1.63s\n",
      "887:\tlearn: 0.3366798\ttotal: 12.8s\tremaining: 1.62s\n",
      "888:\tlearn: 0.3366617\ttotal: 12.8s\tremaining: 1.6s\n",
      "889:\tlearn: 0.3366433\ttotal: 12.8s\tremaining: 1.59s\n",
      "890:\tlearn: 0.3366116\ttotal: 12.9s\tremaining: 1.57s\n",
      "891:\tlearn: 0.3365660\ttotal: 12.9s\tremaining: 1.56s\n",
      "892:\tlearn: 0.3365351\ttotal: 12.9s\tremaining: 1.54s\n",
      "893:\tlearn: 0.3365086\ttotal: 12.9s\tremaining: 1.53s\n",
      "894:\tlearn: 0.3364730\ttotal: 12.9s\tremaining: 1.51s\n",
      "895:\tlearn: 0.3364432\ttotal: 12.9s\tremaining: 1.5s\n",
      "896:\tlearn: 0.3364256\ttotal: 12.9s\tremaining: 1.49s\n",
      "897:\tlearn: 0.3363769\ttotal: 13s\tremaining: 1.47s\n",
      "898:\tlearn: 0.3363641\ttotal: 13s\tremaining: 1.46s\n",
      "899:\tlearn: 0.3363491\ttotal: 13s\tremaining: 1.44s\n",
      "900:\tlearn: 0.3363304\ttotal: 13s\tremaining: 1.43s\n",
      "901:\tlearn: 0.3362974\ttotal: 13s\tremaining: 1.41s\n",
      "902:\tlearn: 0.3362621\ttotal: 13s\tremaining: 1.4s\n",
      "903:\tlearn: 0.3362191\ttotal: 13s\tremaining: 1.38s\n",
      "904:\tlearn: 0.3361933\ttotal: 13.1s\tremaining: 1.37s\n",
      "905:\tlearn: 0.3361617\ttotal: 13.1s\tremaining: 1.35s\n",
      "906:\tlearn: 0.3361300\ttotal: 13.1s\tremaining: 1.34s\n",
      "907:\tlearn: 0.3360979\ttotal: 13.1s\tremaining: 1.33s\n",
      "908:\tlearn: 0.3360727\ttotal: 13.1s\tremaining: 1.31s\n",
      "909:\tlearn: 0.3360478\ttotal: 13.1s\tremaining: 1.3s\n",
      "910:\tlearn: 0.3360060\ttotal: 13.1s\tremaining: 1.28s\n",
      "911:\tlearn: 0.3359891\ttotal: 13.2s\tremaining: 1.27s\n",
      "912:\tlearn: 0.3359303\ttotal: 13.2s\tremaining: 1.25s\n",
      "913:\tlearn: 0.3359042\ttotal: 13.2s\tremaining: 1.24s\n",
      "914:\tlearn: 0.3358692\ttotal: 13.2s\tremaining: 1.23s\n",
      "915:\tlearn: 0.3358280\ttotal: 13.2s\tremaining: 1.21s\n",
      "916:\tlearn: 0.3358028\ttotal: 13.2s\tremaining: 1.2s\n",
      "917:\tlearn: 0.3357764\ttotal: 13.2s\tremaining: 1.18s\n",
      "918:\tlearn: 0.3357653\ttotal: 13.2s\tremaining: 1.17s\n",
      "919:\tlearn: 0.3357474\ttotal: 13.3s\tremaining: 1.15s\n",
      "920:\tlearn: 0.3357278\ttotal: 13.3s\tremaining: 1.14s\n",
      "921:\tlearn: 0.3356978\ttotal: 13.3s\tremaining: 1.12s\n",
      "922:\tlearn: 0.3356613\ttotal: 13.3s\tremaining: 1.11s\n",
      "923:\tlearn: 0.3356192\ttotal: 13.3s\tremaining: 1.09s\n",
      "924:\tlearn: 0.3355836\ttotal: 13.3s\tremaining: 1.08s\n",
      "925:\tlearn: 0.3355500\ttotal: 13.4s\tremaining: 1.07s\n",
      "926:\tlearn: 0.3355181\ttotal: 13.4s\tremaining: 1.05s\n",
      "927:\tlearn: 0.3354929\ttotal: 13.4s\tremaining: 1.04s\n",
      "928:\tlearn: 0.3354596\ttotal: 13.4s\tremaining: 1.02s\n",
      "929:\tlearn: 0.3354277\ttotal: 13.4s\tremaining: 1.01s\n",
      "930:\tlearn: 0.3353885\ttotal: 13.4s\tremaining: 995ms\n",
      "931:\tlearn: 0.3353504\ttotal: 13.4s\tremaining: 981ms\n",
      "932:\tlearn: 0.3353201\ttotal: 13.5s\tremaining: 966ms\n",
      "933:\tlearn: 0.3353077\ttotal: 13.5s\tremaining: 952ms\n",
      "934:\tlearn: 0.3352779\ttotal: 13.5s\tremaining: 937ms\n",
      "935:\tlearn: 0.3352592\ttotal: 13.5s\tremaining: 923ms\n",
      "936:\tlearn: 0.3352262\ttotal: 13.5s\tremaining: 908ms\n",
      "937:\tlearn: 0.3351884\ttotal: 13.5s\tremaining: 894ms\n",
      "938:\tlearn: 0.3351411\ttotal: 13.5s\tremaining: 880ms\n",
      "939:\tlearn: 0.3350980\ttotal: 13.6s\tremaining: 865ms\n",
      "940:\tlearn: 0.3350761\ttotal: 13.6s\tremaining: 851ms\n",
      "941:\tlearn: 0.3350416\ttotal: 13.6s\tremaining: 836ms\n",
      "942:\tlearn: 0.3348996\ttotal: 13.6s\tremaining: 822ms\n",
      "943:\tlearn: 0.3348669\ttotal: 13.6s\tremaining: 807ms\n",
      "944:\tlearn: 0.3348355\ttotal: 13.6s\tremaining: 793ms\n",
      "945:\tlearn: 0.3348011\ttotal: 13.6s\tremaining: 778ms\n",
      "946:\tlearn: 0.3347537\ttotal: 13.6s\tremaining: 764ms\n",
      "947:\tlearn: 0.3347300\ttotal: 13.7s\tremaining: 749ms\n",
      "948:\tlearn: 0.3346885\ttotal: 13.7s\tremaining: 735ms\n",
      "949:\tlearn: 0.3346674\ttotal: 13.7s\tremaining: 720ms\n",
      "950:\tlearn: 0.3346389\ttotal: 13.7s\tremaining: 706ms\n",
      "951:\tlearn: 0.3346098\ttotal: 13.7s\tremaining: 691ms\n",
      "952:\tlearn: 0.3345813\ttotal: 13.7s\tremaining: 678ms\n",
      "953:\tlearn: 0.3345476\ttotal: 13.8s\tremaining: 663ms\n",
      "954:\tlearn: 0.3345303\ttotal: 13.8s\tremaining: 649ms\n",
      "955:\tlearn: 0.3345037\ttotal: 13.8s\tremaining: 634ms\n",
      "956:\tlearn: 0.3344809\ttotal: 13.8s\tremaining: 620ms\n",
      "957:\tlearn: 0.3344166\ttotal: 13.8s\tremaining: 605ms\n",
      "958:\tlearn: 0.3343989\ttotal: 13.8s\tremaining: 591ms\n",
      "959:\tlearn: 0.3343729\ttotal: 13.8s\tremaining: 576ms\n",
      "960:\tlearn: 0.3343631\ttotal: 13.8s\tremaining: 562ms\n",
      "961:\tlearn: 0.3343371\ttotal: 13.9s\tremaining: 547ms\n",
      "962:\tlearn: 0.3342936\ttotal: 13.9s\tremaining: 533ms\n",
      "963:\tlearn: 0.3342693\ttotal: 13.9s\tremaining: 518ms\n",
      "964:\tlearn: 0.3342501\ttotal: 13.9s\tremaining: 504ms\n",
      "965:\tlearn: 0.3342219\ttotal: 13.9s\tremaining: 490ms\n",
      "966:\tlearn: 0.3341924\ttotal: 13.9s\tremaining: 475ms\n",
      "967:\tlearn: 0.3341698\ttotal: 13.9s\tremaining: 461ms\n",
      "968:\tlearn: 0.3341403\ttotal: 14s\tremaining: 447ms\n",
      "969:\tlearn: 0.3341089\ttotal: 14s\tremaining: 432ms\n",
      "970:\tlearn: 0.3340652\ttotal: 14s\tremaining: 418ms\n",
      "971:\tlearn: 0.3340242\ttotal: 14s\tremaining: 403ms\n",
      "972:\tlearn: 0.3339935\ttotal: 14s\tremaining: 389ms\n",
      "973:\tlearn: 0.3339669\ttotal: 14s\tremaining: 374ms\n",
      "974:\tlearn: 0.3339438\ttotal: 14s\tremaining: 360ms\n",
      "975:\tlearn: 0.3339131\ttotal: 14.1s\tremaining: 346ms\n",
      "976:\tlearn: 0.3338910\ttotal: 14.1s\tremaining: 331ms\n",
      "977:\tlearn: 0.3338732\ttotal: 14.1s\tremaining: 317ms\n",
      "978:\tlearn: 0.3338490\ttotal: 14.1s\tremaining: 302ms\n",
      "979:\tlearn: 0.3338213\ttotal: 14.1s\tremaining: 288ms\n",
      "980:\tlearn: 0.3337908\ttotal: 14.1s\tremaining: 273ms\n",
      "981:\tlearn: 0.3337596\ttotal: 14.1s\tremaining: 259ms\n",
      "982:\tlearn: 0.3337244\ttotal: 14.1s\tremaining: 245ms\n",
      "983:\tlearn: 0.3336789\ttotal: 14.2s\tremaining: 230ms\n",
      "984:\tlearn: 0.3336511\ttotal: 14.2s\tremaining: 216ms\n",
      "985:\tlearn: 0.3336239\ttotal: 14.2s\tremaining: 202ms\n",
      "986:\tlearn: 0.3334548\ttotal: 14.2s\tremaining: 187ms\n",
      "987:\tlearn: 0.3334337\ttotal: 14.2s\tremaining: 173ms\n",
      "988:\tlearn: 0.3334084\ttotal: 14.2s\tremaining: 158ms\n",
      "989:\tlearn: 0.3333769\ttotal: 14.3s\tremaining: 144ms\n",
      "990:\tlearn: 0.3333498\ttotal: 14.3s\tremaining: 130ms\n",
      "991:\tlearn: 0.3333252\ttotal: 14.3s\tremaining: 115ms\n",
      "992:\tlearn: 0.3333138\ttotal: 14.3s\tremaining: 101ms\n",
      "993:\tlearn: 0.3332730\ttotal: 14.3s\tremaining: 86.4ms\n",
      "994:\tlearn: 0.3332000\ttotal: 14.3s\tremaining: 72ms\n",
      "995:\tlearn: 0.3331716\ttotal: 14.3s\tremaining: 57.6ms\n",
      "996:\tlearn: 0.3331461\ttotal: 14.3s\tremaining: 43.2ms\n"
     ]
    },
    {
     "name": "stdout",
     "output_type": "stream",
     "text": [
      "997:\tlearn: 0.3331216\ttotal: 14.4s\tremaining: 28.8ms\n",
      "998:\tlearn: 0.3330871\ttotal: 14.4s\tremaining: 14.4ms\n",
      "999:\tlearn: 0.3330479\ttotal: 14.4s\tremaining: 0us\n"
     ]
    },
    {
     "data": {
      "text/plain": [
       "0.7798677716733402"
      ]
     },
     "execution_count": 206,
     "metadata": {},
     "output_type": "execute_result"
    }
   ],
   "source": [
    "model = CatBoostClassifier()\n",
    "\n",
    "model.fit(X_train, y_train)\n",
    "\n",
    "y_pred = model.predict(X_test)\n",
    "\n",
    "accuracy_score(y_test, y_pred)"
   ]
  },
  {
   "cell_type": "markdown",
   "metadata": {},
   "source": [
    "## KNN"
   ]
  },
  {
   "cell_type": "code",
   "execution_count": 116,
   "metadata": {},
   "outputs": [
    {
     "data": {
      "text/plain": [
       "0.5702579383555266"
      ]
     },
     "execution_count": 116,
     "metadata": {},
     "output_type": "execute_result"
    }
   ],
   "source": [
    "knn = KNeighborsClassifier()\n",
    "\n",
    "knn.fit(X_train, y_train)\n",
    "\n",
    "y_pred = knn.predict(X_test)\n",
    "\n",
    "accuracy_score(y_test, y_pred)"
   ]
  },
  {
   "cell_type": "markdown",
   "metadata": {},
   "source": [
    "## Decision Tree"
   ]
  },
  {
   "cell_type": "code",
   "execution_count": 75,
   "metadata": {},
   "outputs": [
    {
     "data": {
      "text/plain": [
       "0.6629108855573145"
      ]
     },
     "execution_count": 75,
     "metadata": {},
     "output_type": "execute_result"
    }
   ],
   "source": [
    "dec_tree = DecisionTreeClassifier()\n",
    "\n",
    "dec_tree.fit(X_train, y_train)\n",
    "\n",
    "y_pred = dec_tree.predict(X_test)\n",
    "\n",
    "accuracy_score(y_test, y_pred)"
   ]
  },
  {
   "cell_type": "markdown",
   "metadata": {},
   "source": [
    "## Random Forests"
   ]
  },
  {
   "cell_type": "code",
   "execution_count": 119,
   "metadata": {},
   "outputs": [
    {
     "data": {
      "text/plain": [
       "0.6637489524164261"
      ]
     },
     "execution_count": 119,
     "metadata": {},
     "output_type": "execute_result"
    }
   ],
   "source": [
    "forest = RandomForestClassifier(n_estimators=10)\n",
    "\n",
    "forest.fit(X_train, y_train)\n",
    "\n",
    "y_pred = forest.predict(X_test)\n",
    "\n",
    "accuracy_score(y_test, y_pred)"
   ]
  },
  {
   "cell_type": "markdown",
   "metadata": {},
   "source": [
    "## ROC Curve"
   ]
  },
  {
   "cell_type": "markdown",
   "metadata": {},
   "source": [
    "### Logistic Regression"
   ]
  },
  {
   "cell_type": "code",
   "execution_count": 254,
   "metadata": {},
   "outputs": [
    {
     "data": {
      "image/png": "[encoded data removed]",
      "text/plain": [
       "<Figure size 432x288 with 1 Axes>"
      ]
     },
     "metadata": {
      "needs_background": "light"
     },
     "output_type": "display_data"
    }
   ],
   "source": [
    "logit_roc_auc = roc_auc_score(y_test, log.predict(X_test))\n",
    "fpr, tpr, thresholds = roc_curve(y_test, log.predict_proba(X_test)[:,1])\n",
    "plt.figure()\n",
    "plt.plot(fpr, tpr, label='Logistic Regression (area = %0.2f)' % logit_roc_auc)\n",
    "plt.plot([0, 1], [0, 1],'r--')\n",
    "plt.xlim([0.0, 1.0])\n",
    "plt.ylim([0.0, 1.05])\n",
    "plt.xlabel('False Positive Rate')\n",
    "plt.ylabel('True Positive Rate')\n",
    "plt.title('Receiver Operating Characteristic')\n",
    "plt.legend(loc=\"lower right\")\n",
    "plt.savefig('Log_ROC_attempt2')\n",
    "plt.show()"
   ]
  },
  {
   "cell_type": "markdown",
   "metadata": {},
   "source": [
    "### XGBoost"
   ]
  },
  {
   "cell_type": "code",
   "execution_count": 16,
   "metadata": {},
   "outputs": [
    {
     "data": {
      "image/png": "[encoded data removed]",
      "text/plain": [
       "<Figure size 432x288 with 1 Axes>"
      ]
     },
     "metadata": {
      "needs_background": "light"
     },
     "output_type": "display_data"
    }
   ],
   "source": [
    "xgb_roc_auc = roc_auc_score(y_test, xgb_model.predict(X_test))\n",
    "fpr, tpr, thresholds = roc_curve(y_test, xgb_model.predict_proba(X_test)[:,1])\n",
    "plt.figure()\n",
    "plt.plot(fpr, tpr, label='XGBoost (area = %0.2f)' % xgb_roc_auc)\n",
    "plt.plot([0, 1], [0, 1],'r--')\n",
    "plt.xlim([0.0, 1.0])\n",
    "plt.ylim([0.0, 1.05])\n",
    "plt.xlabel('False Positive Rate')\n",
    "plt.ylabel('True Positive Rate')\n",
    "plt.title('Receiver Operating Characteristic')\n",
    "plt.legend(loc=\"lower right\")\n",
    "plt.savefig('XGBoost_ROC_attempt2')\n",
    "plt.show()"
   ]
  },
  {
   "cell_type": "markdown",
   "metadata": {},
   "source": [
    "### SVM"
   ]
  },
  {
   "cell_type": "code",
   "execution_count": 46,
   "metadata": {},
   "outputs": [
    {
     "data": {
      "image/png": "[encoded data removed]",
      "text/plain": [
       "<Figure size 432x288 with 1 Axes>"
      ]
     },
     "metadata": {
      "needs_background": "light"
     },
     "output_type": "display_data"
    }
   ],
   "source": [
    "svm_roc_auc = roc_auc_score(y_test, svc.predict(X_test))\n",
    "fpr, tpr, thresholds = roc_curve(y_test, svc.predict_proba(X_test)[:,1])\n",
    "plt.figure()\n",
    "plt.plot(fpr, tpr, label='SVM (area = %0.2f)' % svm_roc_auc)\n",
    "plt.plot([0, 1], [0, 1],'r--')\n",
    "plt.xlim([0.0, 1.0])\n",
    "plt.ylim([0.0, 1.05])\n",
    "plt.xlabel('False Positive Rate')\n",
    "plt.ylabel('True Positive Rate')\n",
    "plt.title('Receiver Operating Characteristic')\n",
    "plt.legend(loc=\"lower right\")\n",
    "plt.savefig('SVM_ROC_attempt1')\n",
    "plt.show()"
   ]
  },
  {
   "cell_type": "markdown",
   "metadata": {},
   "source": [
    "### CatBoost"
   ]
  },
  {
   "cell_type": "code",
   "execution_count": 207,
   "metadata": {},
   "outputs": [
    {
     "data": {
      "image/png": "[encoded data removed]",
      "text/plain": [
       "<Figure size 432x288 with 1 Axes>"
      ]
     },
     "metadata": {
      "needs_background": "light"
     },
     "output_type": "display_data"
    }
   ],
   "source": [
    "cb_roc_auc = roc_auc_score(y_test, model.predict(X_test))\n",
    "fpr, tpr, thresholds = roc_curve(y_test, model.predict_proba(X_test)[:,1])\n",
    "plt.figure()\n",
    "plt.plot(fpr, tpr, label='CatBoost (area = %0.2f)' % cb_roc_auc)\n",
    "plt.plot([0, 1], [0, 1],'r--')\n",
    "plt.xlim([0.0, 1.0])\n",
    "plt.ylim([0.0, 1.05])\n",
    "plt.xlabel('False Positive Rate')\n",
    "plt.ylabel('True Positive Rate')\n",
    "plt.title('Receiver Operating Characteristic')\n",
    "plt.legend(loc=\"lower right\")\n",
    "plt.savefig('CB_ROC_attempt1')\n",
    "plt.show()"
   ]
  },
  {
   "cell_type": "markdown",
   "metadata": {},
   "source": [
    "### KNN"
   ]
  },
  {
   "cell_type": "code",
   "execution_count": 117,
   "metadata": {},
   "outputs": [
    {
     "data": {
      "image/png": "[encoded data removed]",
      "text/plain": [
       "<Figure size 432x288 with 1 Axes>"
      ]
     },
     "metadata": {
      "needs_background": "light"
     },
     "output_type": "display_data"
    }
   ],
   "source": [
    "knn_roc_auc = roc_auc_score(y_test, knn.predict(X_test))\n",
    "fpr, tpr, thresholds = roc_curve(y_test, knn.predict_proba(X_test)[:,1])\n",
    "plt.figure()\n",
    "plt.plot(fpr, tpr, label='KNN (area = %0.2f)' % knn_roc_auc)\n",
    "plt.plot([0, 1], [0, 1],'r--')\n",
    "plt.xlim([0.0, 1.0])\n",
    "plt.ylim([0.0, 1.05])\n",
    "plt.xlabel('False Positive Rate')\n",
    "plt.ylabel('True Positive Rate')\n",
    "plt.title('Receiver Operating Characteristic')\n",
    "plt.legend(loc=\"lower right\")\n",
    "plt.savefig('KNN_ROC_attempt1')\n",
    "plt.show()"
   ]
  },
  {
   "cell_type": "markdown",
   "metadata": {},
   "source": [
    "### Decision Tree Classifier"
   ]
  },
  {
   "cell_type": "code",
   "execution_count": 76,
   "metadata": {},
   "outputs": [
    {
     "data": {
      "image/png": "[encoded data removed]",
      "text/plain": [
       "<Figure size 432x288 with 1 Axes>"
      ]
     },
     "metadata": {
      "needs_background": "light"
     },
     "output_type": "display_data"
    }
   ],
   "source": [
    "dec_tree_roc_auc = roc_auc_score(y_test, dec_tree.predict(X_test))\n",
    "fpr, tpr, thresholds = roc_curve(y_test, dec_tree.predict_proba(X_test)[:,1])\n",
    "plt.figure()\n",
    "plt.plot(fpr, tpr, label='Decision Tree (area = %0.2f)' % dec_tree_roc_auc)\n",
    "plt.plot([0, 1], [0, 1],'r--')\n",
    "plt.xlim([0.0, 1.0])\n",
    "plt.ylim([0.0, 1.05])\n",
    "plt.xlabel('False Positive Rate')\n",
    "plt.ylabel('True Positive Rate')\n",
    "plt.title('Receiver Operating Characteristic')\n",
    "plt.legend(loc=\"lower right\")\n",
    "plt.savefig('Decision_Tree_ROC_attempt1')\n",
    "plt.show()"
   ]
  },
  {
   "cell_type": "markdown",
   "metadata": {},
   "source": [
    "### Random Forests"
   ]
  },
  {
   "cell_type": "code",
   "execution_count": 120,
   "metadata": {},
   "outputs": [
    {
     "data": {
      "image/png": "[encoded data removed]",
      "text/plain": [
       "<Figure size 432x288 with 1 Axes>"
      ]
     },
     "metadata": {
      "needs_background": "light"
     },
     "output_type": "display_data"
    }
   ],
   "source": [
    "forest_roc_auc = roc_auc_score(y_test, forest.predict(X_test))\n",
    "fpr, tpr, thresholds = roc_curve(y_test, forest.predict_proba(X_test)[:,1])\n",
    "plt.figure()\n",
    "plt.plot(fpr, tpr, label='Random Forests (area = %0.2f)' % forest_roc_auc)\n",
    "plt.plot([0, 1], [0, 1],'r--')\n",
    "plt.xlim([0.0, 1.0])\n",
    "plt.ylim([0.0, 1.05])\n",
    "plt.xlabel('False Positive Rate')\n",
    "plt.ylabel('True Positive Rate')\n",
    "plt.title('Receiver Operating Characteristic')\n",
    "plt.legend(loc=\"lower right\")\n",
    "plt.savefig('Random_Forests_ROC_attempt1')\n",
    "plt.show()"
   ]
  },
  {
   "cell_type": "code",
   "execution_count": null,
   "metadata": {},
   "outputs": [],
   "source": []
  }
 ],
 "metadata": {
  "kernelspec": {
   "display_name": "Python 3",
   "language": "python",
   "name": "python3"
  },
  "language_info": {
   "codemirror_mode": {
    "name": "ipython",
    "version": 3
   },
   "file_extension": ".py",
   "mimetype": "text/x-python",
   "name": "python",
   "nbconvert_exporter": "python",
   "pygments_lexer": "ipython3",
   "version": "3.7.3"
  }
 },
 "nbformat": 4,
 "nbformat_minor": 2
}
