{
 "cells": [
  {
   "cell_type": "code",
   "execution_count": 90,
   "metadata": {},
   "outputs": [],
   "source": [
    "import pandas as pd\n",
    "import numpy as np\n",
    "import copy\n",
    "import datetime\n",
    "\n",
    "from sklearn.preprocessing import LabelEncoder\n",
    "from category_encoders.target_encoder import TargetEncoder\n",
    "from category_encoders.woe import WOEEncoder\n",
    "from category_encoders.hashing import HashingEncoder\n",
    "from category_encoders.leave_one_out import LeaveOneOutEncoder"
   ]
  },
  {
   "cell_type": "markdown",
   "metadata": {},
   "source": [
    "# Preprocessing"
   ]
  },
  {
   "cell_type": "markdown",
   "metadata": {},
   "source": [
    "## Data Import & Consumer Dispute Values Clean"
   ]
  },
  {
   "cell_type": "code",
   "execution_count": 91,
   "metadata": {},
   "outputs": [],
   "source": [
    "dataset = pd.read_csv(\"/home/andrija/Desktop/customer_complaints/complaints-2017-12-08_11_01.csv\")"
   ]
  },
  {
   "cell_type": "code",
   "execution_count": 92,
   "metadata": {},
   "outputs": [],
   "source": [
    "dataset.dropna(axis=0 ,subset=['Consumer disputed?'], inplace=True)\n",
    "\n",
    "dataset.reset_index(inplace=True, drop=True)"
   ]
  },
  {
   "cell_type": "code",
   "execution_count": 93,
   "metadata": {},
   "outputs": [],
   "source": [
    "data = dataset.copy(deep=True)"
   ]
  },
  {
   "cell_type": "markdown",
   "metadata": {},
   "source": [
    "## Data Report"
   ]
  },
  {
   "cell_type": "code",
   "execution_count": 94,
   "metadata": {},
   "outputs": [],
   "source": [
    "def missing_values(data):\n",
    "    \n",
    "    total = data.isnull().sum().sort_values(ascending = False)\n",
    "    percent = (data.isnull().sum() / data.isnull().count() * 100 ).sort_values(ascending = False)\n",
    "    \n",
    "    df = pd.concat([total, percent], axis=1, keys=['Total', 'Percent'])\n",
    "    \n",
    "    print(\"Total missing values by feature: \")\n",
    "    print (df[~(df['Total'] == 0)])\n",
    "    \n",
    "# data.isnull().sum()    "
   ]
  },
  {
   "cell_type": "code",
   "execution_count": 95,
   "metadata": {},
   "outputs": [],
   "source": [
    "# missing_values(data)"
   ]
  },
  {
   "cell_type": "code",
   "execution_count": 96,
   "metadata": {},
   "outputs": [],
   "source": [
    "# import pandas_profiling\n",
    "# pandas_profiling.ProfileReport(data, correlations={\"cramers\": False})"
   ]
  },
  {
   "cell_type": "markdown",
   "metadata": {},
   "source": [
    "## Categorical Data Cleaning "
   ]
  },
  {
   "cell_type": "code",
   "execution_count": 97,
   "metadata": {},
   "outputs": [],
   "source": [
    "data.drop(['Complaint ID', 'ZIP code', 'Company',\n",
    "           'Consumer consent provided?', 'Sub-issue'], axis=1, inplace=True)"
   ]
  },
  {
   "cell_type": "markdown",
   "metadata": {},
   "source": [
    "### Target Variable: Consumer disputed?"
   ]
  },
  {
   "cell_type": "code",
   "execution_count": 98,
   "metadata": {},
   "outputs": [],
   "source": [
    "data['Consumer disputed?'].replace(to_replace=['Yes', 'No'], value=[1, 0], inplace=True)"
   ]
  },
  {
   "cell_type": "markdown",
   "metadata": {},
   "source": [
    "### Date received"
   ]
  },
  {
   "cell_type": "code",
   "execution_count": 99,
   "metadata": {},
   "outputs": [],
   "source": [
    "data['Date received'] = pd.to_datetime(data['Date received'], format='%m/%d/%y')"
   ]
  },
  {
   "cell_type": "code",
   "execution_count": 100,
   "metadata": {},
   "outputs": [],
   "source": [
    "data.insert(0, 'Day received', data['Date received'].dt.dayofweek)\n",
    "data.insert(0, 'Month received', data['Date received'].dt.month)\n",
    "data.insert(0, 'Year received', data['Date received'].dt.year)"
   ]
  },
  {
   "cell_type": "markdown",
   "metadata": {},
   "source": [
    "### Data for Visual Analysis"
   ]
  },
  {
   "cell_type": "code",
   "execution_count": 101,
   "metadata": {},
   "outputs": [],
   "source": [
    "day_name = data['Date received'].dt.day_name()"
   ]
  },
  {
   "cell_type": "code",
   "execution_count": 102,
   "metadata": {},
   "outputs": [],
   "source": [
    "data_interim = data.copy(deep=True)\n",
    "data_interim.drop(['Day received', 'Date received'], axis=1, inplace=True)\n",
    "data_interim.insert(2, 'Day received names', day_name)"
   ]
  },
  {
   "cell_type": "code",
   "execution_count": 103,
   "metadata": {},
   "outputs": [],
   "source": [
    "data.drop(['Date received'], inplace=True, axis=1)"
   ]
  },
  {
   "cell_type": "markdown",
   "metadata": {},
   "source": [
    "### Date sent to company"
   ]
  },
  {
   "cell_type": "code",
   "execution_count": 104,
   "metadata": {
    "scrolled": true
   },
   "outputs": [],
   "source": [
    "data['Date sent to company'] = pd.to_datetime(data['Date sent to company'], format='%m/%d/%y')"
   ]
  },
  {
   "cell_type": "code",
   "execution_count": 105,
   "metadata": {},
   "outputs": [],
   "source": [
    "day = data['Date sent to company'].dt.dayofweek"
   ]
  },
  {
   "cell_type": "code",
   "execution_count": 106,
   "metadata": {},
   "outputs": [],
   "source": [
    "data.insert(3, 'Day sent to company', day)"
   ]
  },
  {
   "cell_type": "code",
   "execution_count": 107,
   "metadata": {},
   "outputs": [],
   "source": [
    "data.drop(['Date sent to company'], inplace=True, axis=1)"
   ]
  },
  {
   "cell_type": "markdown",
   "metadata": {},
   "source": [
    "### Index reset"
   ]
  },
  {
   "cell_type": "code",
   "execution_count": 108,
   "metadata": {},
   "outputs": [],
   "source": [
    "data.sort_values(by=['Year received', 'Month received', 'Day received', 'Day sent to company'], inplace=True)\n",
    "data.reset_index(inplace=True, drop=True)"
   ]
  },
  {
   "cell_type": "markdown",
   "metadata": {},
   "source": [
    "### Timely response?"
   ]
  },
  {
   "cell_type": "code",
   "execution_count": 109,
   "metadata": {},
   "outputs": [],
   "source": [
    "data['Timely response?'].replace(to_replace=['Yes', 'No'], value=[1, 0], inplace=True)"
   ]
  },
  {
   "cell_type": "markdown",
   "metadata": {},
   "source": [
    "### Tags (If not NaN, put 1, else 0)"
   ]
  },
  {
   "cell_type": "code",
   "execution_count": 110,
   "metadata": {},
   "outputs": [],
   "source": [
    "data['Tags'].replace(to_replace=['Servicemember', 'Older American', 'Older American, Servicemember', np.nan],\n",
    "                     value=[1, 1, 1, 0], inplace=True)"
   ]
  },
  {
   "cell_type": "markdown",
   "metadata": {},
   "source": [
    "### Consumer complaint narrative (Indicate whether there is narrative or not)"
   ]
  },
  {
   "cell_type": "code",
   "execution_count": 111,
   "metadata": {},
   "outputs": [],
   "source": [
    "data['Consumer complaint narrative'].fillna(value=0, inplace=True)"
   ]
  },
  {
   "cell_type": "code",
   "execution_count": 112,
   "metadata": {},
   "outputs": [],
   "source": [
    "data['Consumer complaint narrative'].loc[data['Consumer complaint narrative'] != 0] = 1"
   ]
  },
  {
   "cell_type": "markdown",
   "metadata": {},
   "source": [
    "### Sub-issue (Indicate whether there is sub-issue stated or not)"
   ]
  },
  {
   "cell_type": "code",
   "execution_count": 113,
   "metadata": {},
   "outputs": [],
   "source": [
    "# data['Sub-issue'].fillna(value=0, inplace=True)\n",
    "# data['Sub-issue'].loc[data['Sub-issue'] != 0] = 1"
   ]
  },
  {
   "cell_type": "code",
   "execution_count": 114,
   "metadata": {},
   "outputs": [],
   "source": [
    "# data_interim['Sub-issue'].fillna(value=0, inplace=True)\n",
    "# data_interim['Sub-issue'].loc[data_interim['Sub-issue'] != 0] = 1"
   ]
  },
  {
   "cell_type": "markdown",
   "metadata": {},
   "source": [
    "## Encoding of Residual Categorical Features"
   ]
  },
  {
   "cell_type": "code",
   "execution_count": 115,
   "metadata": {},
   "outputs": [],
   "source": [
    "X = data[['Product', 'Company response to consumer', 'Sub-product', 'Issue', 'Company public response',\n",
    "          'State', 'Submitted via']]\n",
    "y = data['Consumer disputed?']"
   ]
  },
  {
   "cell_type": "code",
   "execution_count": 116,
   "metadata": {},
   "outputs": [],
   "source": [
    "data['Sub-product'].fillna(value='zero', inplace=True)\n",
    "data['Company public response'].fillna(value='zero', inplace=True)\n",
    "data['State'].fillna(value='zero', inplace=True)"
   ]
  },
  {
   "cell_type": "markdown",
   "metadata": {},
   "source": [
    "### Label Encoder"
   ]
  },
  {
   "cell_type": "code",
   "execution_count": 86,
   "metadata": {},
   "outputs": [],
   "source": [
    "# transformed = data[['Product', 'Company response to consumer', 'Sub-product', 'Issue', 'Company public response',\n",
    "#       'State', 'Submitted via']].transform(lambda x:LabelEncoder().fit_transform(x))\n",
    "\n",
    "# data[['Product', 'Company response to consumer', 'Sub-product', 'Issue', 'Company public response',\n",
    "#       'State', 'Submitted via']] = transformed"
   ]
  },
  {
   "cell_type": "markdown",
   "metadata": {},
   "source": [
    "### Target (Probabilistic) Encoding"
   ]
  },
  {
   "cell_type": "code",
   "execution_count": 117,
   "metadata": {},
   "outputs": [],
   "source": [
    "X = data[['Product', 'Company response to consumer', 'Sub-product', 'Issue', 'Company public response',\n",
    "          'State', 'Submitted via']]\n",
    "y = data['Consumer disputed?']\n",
    "\n",
    "enc = TargetEncoder(smoothing=2).fit(X, y)\n",
    "\n",
    "X_transformed = enc.transform(X)\n",
    "\n",
    "data[['Product', 'Company response to consumer', 'Sub-product', 'Issue', 'Company public response',\n",
    "      'State', 'Submitted via']] = X_transformed"
   ]
  },
  {
   "cell_type": "markdown",
   "metadata": {},
   "source": [
    "### Weight of Evidence Encoder"
   ]
  },
  {
   "cell_type": "code",
   "execution_count": 517,
   "metadata": {},
   "outputs": [],
   "source": [
    "enc = WOEEncoder().fit(X, y)"
   ]
  },
  {
   "cell_type": "code",
   "execution_count": 518,
   "metadata": {},
   "outputs": [],
   "source": [
    "X_transformed = enc.transform(X)"
   ]
  },
  {
   "cell_type": "code",
   "execution_count": 519,
   "metadata": {},
   "outputs": [],
   "source": [
    "data[['Product', 'Company response to consumer', 'Sub-product', 'Issue', 'Company public response',\n",
    "      'State', 'Submitted via']] = X_transformed"
   ]
  },
  {
   "cell_type": "markdown",
   "metadata": {},
   "source": [
    "### Leave One Out Encoder"
   ]
  },
  {
   "cell_type": "code",
   "execution_count": 562,
   "metadata": {},
   "outputs": [],
   "source": [
    "enc = LeaveOneOutEncoder().fit(X, y)"
   ]
  },
  {
   "cell_type": "code",
   "execution_count": 563,
   "metadata": {},
   "outputs": [],
   "source": [
    "X_transformed = enc.transform(X)"
   ]
  },
  {
   "cell_type": "code",
   "execution_count": 564,
   "metadata": {},
   "outputs": [],
   "source": [
    "data[['Product', 'Company response to consumer', 'Sub-product', 'Issue', 'Company public response',\n",
    "      'State', 'Submitted via']] = X_transformed"
   ]
  },
  {
   "cell_type": "markdown",
   "metadata": {},
   "source": [
    "### Final modifications for Label Encoder"
   ]
  },
  {
   "cell_type": "code",
   "execution_count": 358,
   "metadata": {},
   "outputs": [],
   "source": [
    "# ind1 = np.array(data['Sub-product'] == 0)\n",
    "# ind2 = np.array(data['Sub-product'] == 46)\n",
    "\n",
    "# s1 = data['Sub-product'].copy(deep=False)\n",
    "# s1[ind2] = 0\n",
    "# s1[ind1] = 46"
   ]
  },
  {
   "cell_type": "code",
   "execution_count": 359,
   "metadata": {},
   "outputs": [],
   "source": [
    "# ind1 = np.array(data['Company public response'] == 0)\n",
    "# ind2 = np.array(data['Company public response'] == 3)\n",
    "\n",
    "# s1 = data['Company public response'].copy(deep=False)\n",
    "# s1[ind2] = 0\n",
    "# s1[ind1] = 3"
   ]
  },
  {
   "cell_type": "code",
   "execution_count": 360,
   "metadata": {},
   "outputs": [],
   "source": [
    "# ind1 = np.array(data['State'] == 0)\n",
    "# ind2 = np.array(data['State'] == 62)\n",
    "\n",
    "# s1 = data['State'].copy(deep=False)\n",
    "# s1[ind2] = 0\n",
    "# s1[ind1] = 62"
   ]
  },
  {
   "cell_type": "markdown",
   "metadata": {},
   "source": [
    "### Processed Dataset"
   ]
  },
  {
   "cell_type": "code",
   "execution_count": 121,
   "metadata": {},
   "outputs": [],
   "source": [
    "data_interim.to_csv(\"/home/andrija/Desktop/customer_complaints/notebooks/data_interim.csv\")\n",
    "data.to_csv(\"/home/andrija/Desktop/customer_complaints/notebooks/processed_data_target.csv\")"
   ]
  }
 ],
 "metadata": {
  "kernelspec": {
   "display_name": "Python 3",
   "language": "python",
   "name": "python3"
  },
  "language_info": {
   "codemirror_mode": {
    "name": "ipython",
    "version": 3
   },
   "file_extension": ".py",
   "mimetype": "text/x-python",
   "name": "python",
   "nbconvert_exporter": "python",
   "pygments_lexer": "ipython3",
   "version": "3.7.3"
  }
 },
 "nbformat": 4,
 "nbformat_minor": 2
}
