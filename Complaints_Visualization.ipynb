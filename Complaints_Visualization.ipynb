{
 "cells": [
  {
   "cell_type": "code",
   "execution_count": 1,
   "metadata": {},
   "outputs": [],
   "source": [
    "import pandas as pd\n",
    "import numpy as np\n",
    "import copy\n",
    "import seaborn as sns\n",
    "import plotly.plotly as py\n",
    "import plotly.graph_objs as go\n",
    "import matplotlib.pyplot as plt\n",
    "\n",
    "from sklearn.linear_model import LogisticRegression\n",
    "\n",
    "from patsy.contrasts import Sum"
   ]
  },
  {
   "cell_type": "code",
   "execution_count": 18,
   "metadata": {},
   "outputs": [],
   "source": [
    "dataset = pd.read_csv(\"/home/andrija/Desktop/customer_complaints/notebooks/data_interim.csv\")\n",
    "dataset.drop(columns=['Unnamed: 0'], inplace=True)\n",
    "\n",
    "dataset_processed = pd.read_csv(\"/home/andrija/Desktop/customer_complaints/notebooks/processed_data_label.csv\")\n",
    "dataset_processed.drop(columns=['Unnamed: 0'], inplace=True)"
   ]
  },
  {
   "cell_type": "markdown",
   "metadata": {},
   "source": [
    "### Proportion of Disputes (Obvious data imbalance in dependent variable)"
   ]
  },
  {
   "cell_type": "code",
   "execution_count": 3,
   "metadata": {},
   "outputs": [
    {
     "name": "stderr",
     "output_type": "stream",
     "text": [
      "/home/andrija/anaconda3/lib/python3.7/site-packages/IPython/core/display.py:689: UserWarning:\n",
      "\n",
      "Consider using IPython.display.IFrame instead\n",
      "\n"
     ]
    },
    {
     "data": {
      "text/html": [
       "<iframe id=\"igraph\" scrolling=\"no\" style=\"border:none;\" seamless=\"seamless\" src=\"https://plot.ly/~AndrijaLukovic/106.embed\" height=\"525px\" width=\"100%\"></iframe>"
      ],
      "text/plain": [
       "<chart_studio.tools.PlotlyDisplay object>"
      ]
     },
     "execution_count": 3,
     "metadata": {},
     "output_type": "execute_result"
    }
   ],
   "source": [
    "labels = ['Consumer did not dispute', 'Consumer disputed']\n",
    "values = np.array(dataset['Consumer disputed?'].value_counts())\n",
    "colors = ['rgb(55, 83, 109)']\n",
    "\n",
    "trace = go.Pie(labels=labels, values=values, hoverinfo='label+percent', textinfo='value', \n",
    "               textfont=dict(size=18), marker=dict(colors=colors))\n",
    "py.iplot([trace])"
   ]
  },
  {
   "cell_type": "markdown",
   "metadata": {},
   "source": [
    "### Complaints vs Disputes by Year"
   ]
  },
  {
   "cell_type": "code",
   "execution_count": 20,
   "metadata": {},
   "outputs": [],
   "source": [
    "complaints_year = np.array(dataset_processed['Year received'].value_counts())\n",
    "x0 = np.array(dataset_processed['Year received'].value_counts().index)"
   ]
  },
  {
   "cell_type": "code",
   "execution_count": 21,
   "metadata": {},
   "outputs": [],
   "source": [
    "disputes_year = np.array(dataset_processed.groupby('Year received')['Consumer disputed?'].sum())\n",
    "x1 = np.array(dataset_processed.groupby('Year received')['Consumer disputed?'].sum().index)"
   ]
  },
  {
   "cell_type": "code",
   "execution_count": 22,
   "metadata": {},
   "outputs": [
    {
     "name": "stderr",
     "output_type": "stream",
     "text": [
      "/home/andrija/anaconda3/lib/python3.7/site-packages/IPython/core/display.py:689: UserWarning:\n",
      "\n",
      "Consider using IPython.display.IFrame instead\n",
      "\n"
     ]
    },
    {
     "data": {
      "text/html": [
       "<iframe id=\"igraph\" scrolling=\"no\" style=\"border:none;\" seamless=\"seamless\" src=\"https://plot.ly/~AndrijaLukovic/92.embed\" height=\"525px\" width=\"100%\"></iframe>"
      ],
      "text/plain": [
       "<chart_studio.tools.PlotlyDisplay object>"
      ]
     },
     "execution_count": 22,
     "metadata": {},
     "output_type": "execute_result"
    }
   ],
   "source": [
    "trace0 = go.Bar(x=x0, y=complaints_year, name='Complaints by Year', marker=dict(color='rgb(55, 83, 109)'))\n",
    "trace1 = go.Bar(x=x1, y=disputes_year, name='Disputes by Year', marker=dict(color='rgb(26, 118, 255)'))\n",
    "\n",
    "data = [trace0, trace1]\n",
    "layout = go.Layout(title='Complaints vs Disputes by Year', barmode='group')\n",
    "\n",
    "fig = go.Figure(data=data, layout=layout)\n",
    "py.iplot(fig, filename='Disputes by Year')"
   ]
  },
  {
   "cell_type": "markdown",
   "metadata": {},
   "source": [
    "### Complaints vs Disputes by Month"
   ]
  },
  {
   "cell_type": "code",
   "execution_count": 23,
   "metadata": {},
   "outputs": [],
   "source": [
    "complaints_month = np.array(dataset_processed['Month received'].value_counts())\n",
    "x0 = np.array(dataset_processed['Month received'].value_counts().index)"
   ]
  },
  {
   "cell_type": "code",
   "execution_count": 24,
   "metadata": {},
   "outputs": [],
   "source": [
    "disputes_month = np.array(dataset_processed.groupby('Month received')['Consumer disputed?'].sum())\n",
    "x1 = np.array(dataset_processed.groupby('Month received')['Consumer disputed?'].sum().index)"
   ]
  },
  {
   "cell_type": "code",
   "execution_count": 25,
   "metadata": {},
   "outputs": [
    {
     "name": "stderr",
     "output_type": "stream",
     "text": [
      "/home/andrija/anaconda3/lib/python3.7/site-packages/IPython/core/display.py:689: UserWarning:\n",
      "\n",
      "Consider using IPython.display.IFrame instead\n",
      "\n"
     ]
    },
    {
     "data": {
      "text/html": [
       "<iframe id=\"igraph\" scrolling=\"no\" style=\"border:none;\" seamless=\"seamless\" src=\"https://plot.ly/~AndrijaLukovic/94.embed\" height=\"525px\" width=\"100%\"></iframe>"
      ],
      "text/plain": [
       "<chart_studio.tools.PlotlyDisplay object>"
      ]
     },
     "execution_count": 25,
     "metadata": {},
     "output_type": "execute_result"
    }
   ],
   "source": [
    "trace0 = go.Bar(x=x0, y=complaints_month, name='Complaints by Month', marker=dict(color='rgb(55, 83, 109)'))\n",
    "trace1 = go.Bar(x=x1, y=disputes_month, name='Disputes by Month', marker=dict(color='rgb(26, 118, 255)'))\n",
    "\n",
    "data = [trace0, trace1]\n",
    "layout = go.Layout(title='Complaints vs Disputes by Month', barmode='group')\n",
    "\n",
    "fig = go.Figure(data=data, layout=layout)\n",
    "py.iplot(fig, filename='Disputes by Month')"
   ]
  },
  {
   "cell_type": "markdown",
   "metadata": {},
   "source": [
    "### Complaints vs Disputes by Day"
   ]
  },
  {
   "cell_type": "code",
   "execution_count": 26,
   "metadata": {},
   "outputs": [],
   "source": [
    "complaints_day = np.array(dataset['Day received names'].value_counts())\n",
    "x0 = np.array(dataset['Day received names'].value_counts().index)"
   ]
  },
  {
   "cell_type": "code",
   "execution_count": 27,
   "metadata": {},
   "outputs": [],
   "source": [
    "disputes_day = np.array(dataset.groupby('Day received names')['Consumer disputed?'].sum())\n",
    "x1 = np.array(dataset.groupby('Day received names')['Consumer disputed?'].sum().index)"
   ]
  },
  {
   "cell_type": "code",
   "execution_count": 28,
   "metadata": {},
   "outputs": [
    {
     "name": "stderr",
     "output_type": "stream",
     "text": [
      "/home/andrija/anaconda3/lib/python3.7/site-packages/IPython/core/display.py:689: UserWarning:\n",
      "\n",
      "Consider using IPython.display.IFrame instead\n",
      "\n"
     ]
    },
    {
     "data": {
      "text/html": [
       "<iframe id=\"igraph\" scrolling=\"no\" style=\"border:none;\" seamless=\"seamless\" src=\"https://plot.ly/~AndrijaLukovic/96.embed\" height=\"525px\" width=\"100%\"></iframe>"
      ],
      "text/plain": [
       "<chart_studio.tools.PlotlyDisplay object>"
      ]
     },
     "execution_count": 28,
     "metadata": {},
     "output_type": "execute_result"
    }
   ],
   "source": [
    "trace0 = go.Bar(x=x0, y=complaints_day, name='Complaints by Day', marker=dict(color='rgb(55, 83, 109)'))\n",
    "trace1 = go.Bar(x=x1, y=disputes_day, name='Disputes by Day', marker=dict(color='rgb(26, 118, 255)'))\n",
    "\n",
    "data = [trace0, trace1]\n",
    "layout = go.Layout(title='Complaints vs Disputes by Day', barmode='group')\n",
    "\n",
    "fig = go.Figure(data=data, layout=layout)\n",
    "py.iplot(fig, filename='Disputes by Day')"
   ]
  },
  {
   "cell_type": "markdown",
   "metadata": {},
   "source": [
    "### Complaints vs Disputes by State"
   ]
  },
  {
   "cell_type": "code",
   "execution_count": 29,
   "metadata": {},
   "outputs": [],
   "source": [
    "complaints_state = np.array(dataset['State'].value_counts())[:13]\n",
    "x0 = np.array(dataset['State'].value_counts().index)[:13]"
   ]
  },
  {
   "cell_type": "code",
   "execution_count": 30,
   "metadata": {},
   "outputs": [],
   "source": [
    "disputes_state = np.array(dataset.groupby('State')['Consumer disputed?'].sum().sort_values(ascending=False))[:13]\n",
    "x1 = np.array(dataset.groupby('State')['Consumer disputed?'].sum().sort_values(ascending=False).index)\n",
    "x1 = np.copy(x1[:13]) #(:-6)"
   ]
  },
  {
   "cell_type": "code",
   "execution_count": 31,
   "metadata": {},
   "outputs": [
    {
     "name": "stderr",
     "output_type": "stream",
     "text": [
      "/home/andrija/anaconda3/lib/python3.7/site-packages/IPython/core/display.py:689: UserWarning:\n",
      "\n",
      "Consider using IPython.display.IFrame instead\n",
      "\n"
     ]
    },
    {
     "data": {
      "text/html": [
       "<iframe id=\"igraph\" scrolling=\"no\" style=\"border:none;\" seamless=\"seamless\" src=\"https://plot.ly/~AndrijaLukovic/98.embed\" height=\"525px\" width=\"100%\"></iframe>"
      ],
      "text/plain": [
       "<chart_studio.tools.PlotlyDisplay object>"
      ]
     },
     "execution_count": 31,
     "metadata": {},
     "output_type": "execute_result"
    }
   ],
   "source": [
    "trace0 = go.Bar(x=x0, y=complaints_state, name='Complaints by State', marker=dict(color='rgb(55, 83, 109)'))\n",
    "trace1 = go.Bar(x=x1, y=disputes_state, name='Disputes by State', marker=dict(color='rgb(26, 118, 255)'))\n",
    "\n",
    "data = [trace0, trace1]\n",
    "layout = go.Layout(title='Complaints vs Disputes by State', barmode='group')\n",
    "\n",
    "fig = go.Figure(data=data, layout=layout)\n",
    "py.iplot(fig, filename='Disputes by State')"
   ]
  },
  {
   "cell_type": "code",
   "execution_count": 32,
   "metadata": {},
   "outputs": [],
   "source": [
    "disputes_state = np.array(dataset.groupby('State')['Consumer disputed?'].sum().sort_values(ascending=False))[:20]"
   ]
  },
  {
   "cell_type": "code",
   "execution_count": 33,
   "metadata": {},
   "outputs": [],
   "source": [
    "states = np.array(dataset.groupby('State')['Consumer disputed?'].sum().sort_values(ascending=False).index)\n",
    "states = np.copy(states[:20]) #(:-6)"
   ]
  },
  {
   "cell_type": "code",
   "execution_count": 34,
   "metadata": {},
   "outputs": [
    {
     "name": "stderr",
     "output_type": "stream",
     "text": [
      "/home/andrija/anaconda3/lib/python3.7/site-packages/IPython/core/display.py:689: UserWarning:\n",
      "\n",
      "Consider using IPython.display.IFrame instead\n",
      "\n"
     ]
    },
    {
     "data": {
      "text/html": [
       "<iframe id=\"igraph\" scrolling=\"no\" style=\"border:none;\" seamless=\"seamless\" src=\"https://plot.ly/~AndrijaLukovic/98.embed\" height=\"525px\" width=\"100%\"></iframe>"
      ],
      "text/plain": [
       "<chart_studio.tools.PlotlyDisplay object>"
      ]
     },
     "execution_count": 34,
     "metadata": {},
     "output_type": "execute_result"
    }
   ],
   "source": [
    "trace = go.Bar(x=states, y=disputes_state, name='Disputes by State', marker=dict(color='rgb(55, 83, 109)'))\n",
    "\n",
    "data = [trace]\n",
    "layout = go.Layout(xaxis=dict(tickangle=45), barmode='group', title='Disputes by State')\n",
    "\n",
    "fig = go.Figure(data=data, layout=layout)\n",
    "py.iplot(fig, filename='Disputes by State')"
   ]
  },
  {
   "cell_type": "markdown",
   "metadata": {},
   "source": [
    "### Complaints vs Disputes by Product "
   ]
  },
  {
   "cell_type": "code",
   "execution_count": 21,
   "metadata": {},
   "outputs": [],
   "source": [
    "complaints_product = np.array(dataset['Product'].value_counts())\n",
    "x0 = np.array(dataset['Product'].value_counts().index)"
   ]
  },
  {
   "cell_type": "code",
   "execution_count": 22,
   "metadata": {},
   "outputs": [],
   "source": [
    "disputes_product = np.array(dataset.groupby('Product')['Consumer disputed?'].sum())\n",
    "x1 = np.array(dataset.groupby('Product')['Consumer disputed?'].sum().index)"
   ]
  },
  {
   "cell_type": "code",
   "execution_count": 23,
   "metadata": {},
   "outputs": [
    {
     "name": "stderr",
     "output_type": "stream",
     "text": [
      "/home/andrija/anaconda3/lib/python3.7/site-packages/IPython/core/display.py:689: UserWarning:\n",
      "\n",
      "Consider using IPython.display.IFrame instead\n",
      "\n"
     ]
    },
    {
     "data": {
      "text/html": [
       "<iframe id=\"igraph\" scrolling=\"no\" style=\"border:none;\" seamless=\"seamless\" src=\"https://plot.ly/~AndrijaLukovic/100.embed\" height=\"525px\" width=\"100%\"></iframe>"
      ],
      "text/plain": [
       "<chart_studio.tools.PlotlyDisplay object>"
      ]
     },
     "execution_count": 23,
     "metadata": {},
     "output_type": "execute_result"
    }
   ],
   "source": [
    "trace0 = go.Bar(x=x0, y=complaints_product, name='Complaints by Product', marker=dict(color='rgb(55, 83, 109)'))\n",
    "trace1 = go.Bar(x=x1, y=disputes_product, name='Disputes by Product', marker=dict(color='rgb(26, 118, 255)'))\n",
    "\n",
    "data = [trace0, trace1]\n",
    "layout = go.Layout(title='Complaints vs Disputes by Product', barmode='group')\n",
    "\n",
    "fig = go.Figure(data=data, layout=layout)\n",
    "py.iplot(fig, filename='Disputes by Product')"
   ]
  },
  {
   "cell_type": "markdown",
   "metadata": {},
   "source": [
    "### Consumer Complaint Narrative vs Dispute"
   ]
  },
  {
   "cell_type": "code",
   "execution_count": 24,
   "metadata": {},
   "outputs": [],
   "source": [
    "complaint_dispute = np.array(dataset.groupby('Company response to consumer')['Consumer disputed?'].sum().sort_values(ascending=False))\n",
    "complaint_response = np.array(dataset.groupby('Company response to consumer')['Consumer disputed?'].sum().sort_values(ascending=False).index)"
   ]
  },
  {
   "cell_type": "code",
   "execution_count": 25,
   "metadata": {},
   "outputs": [
    {
     "name": "stderr",
     "output_type": "stream",
     "text": [
      "/home/andrija/anaconda3/lib/python3.7/site-packages/IPython/core/display.py:689: UserWarning:\n",
      "\n",
      "Consider using IPython.display.IFrame instead\n",
      "\n"
     ]
    },
    {
     "data": {
      "text/html": [
       "<iframe id=\"igraph\" scrolling=\"no\" style=\"border:none;\" seamless=\"seamless\" src=\"https://plot.ly/~AndrijaLukovic/102.embed\" height=\"525px\" width=\"100%\"></iframe>"
      ],
      "text/plain": [
       "<chart_studio.tools.PlotlyDisplay object>"
      ]
     },
     "execution_count": 25,
     "metadata": {},
     "output_type": "execute_result"
    }
   ],
   "source": [
    "response = np.copy(np.array(dataset['Company response to consumer'].value_counts().index)[:-1])\n",
    "response_values = np.copy(np.array(dataset['Company response to consumer'].value_counts())[:-1])\n",
    "\n",
    "trace0 = go.Bar(x=response, y=response_values, name='Company responses', marker=dict(color='rgb(55, 83, 109)'))\n",
    "\n",
    "trace1 = go.Bar(x=complaint_response, y=complaint_dispute, name='Disputes by Company Response',\n",
    "                marker=dict(color='rgb(26, 118, 255)'))\n",
    "\n",
    "data = [trace0, trace1]\n",
    "layout = go.Layout(title='Disputes by Company Response', barmode='group')\n",
    "\n",
    "fig = go.Figure(data=data, layout=layout)\n",
    "py.iplot(fig, filename='Disputes vs Total Products')"
   ]
  },
  {
   "cell_type": "markdown",
   "metadata": {},
   "source": [
    "### Disputes by Issue"
   ]
  },
  {
   "cell_type": "code",
   "execution_count": 26,
   "metadata": {},
   "outputs": [],
   "source": [
    "disputes_issue = np.copy(np.array(dataset.groupby('Issue')['Consumer disputed?'].sum().sort_values(ascending=False))[:-9])"
   ]
  },
  {
   "cell_type": "code",
   "execution_count": 27,
   "metadata": {},
   "outputs": [],
   "source": [
    "issues = np.array(dataset.groupby('Issue')['Consumer disputed?'].sum().sort_values(ascending=False).index)"
   ]
  },
  {
   "cell_type": "code",
   "execution_count": 28,
   "metadata": {},
   "outputs": [
    {
     "name": "stderr",
     "output_type": "stream",
     "text": [
      "/home/andrija/anaconda3/lib/python3.7/site-packages/IPython/core/display.py:689: UserWarning:\n",
      "\n",
      "Consider using IPython.display.IFrame instead\n",
      "\n"
     ]
    },
    {
     "data": {
      "text/html": [
       "<iframe id=\"igraph\" scrolling=\"no\" style=\"border:none;\" seamless=\"seamless\" src=\"https://plot.ly/~AndrijaLukovic/104.embed\" height=\"525px\" width=\"100%\"></iframe>"
      ],
      "text/plain": [
       "<chart_studio.tools.PlotlyDisplay object>"
      ]
     },
     "execution_count": 28,
     "metadata": {},
     "output_type": "execute_result"
    }
   ],
   "source": [
    "trace = go.Bar(x=issues, y=disputes_issue, name='Disputes by Issue', marker=dict(color='rgb(55, 83, 109)'))\n",
    "\n",
    "data = [trace]\n",
    "layout = go.Layout(xaxis=dict(tickangle=45), barmode='group', title='Disputes by Issue')\n",
    "\n",
    "fig = go.Figure(data=data, layout=layout)\n",
    "py.iplot(fig, filename='Disputes by Issue')"
   ]
  }
 ],
 "metadata": {
  "kernelspec": {
   "display_name": "Python 3",
   "language": "python",
   "name": "python3"
  },
  "language_info": {
   "codemirror_mode": {
    "name": "ipython",
    "version": 3
   },
   "file_extension": ".py",
   "mimetype": "text/x-python",
   "name": "python",
   "nbconvert_exporter": "python",
   "pygments_lexer": "ipython3",
   "version": "3.7.3"
  }
 },
 "nbformat": 4,
 "nbformat_minor": 2
}
